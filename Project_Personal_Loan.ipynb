{
  "nbformat": 4,
  "nbformat_minor": 0,
  "metadata": {
    "colab": {
      "name": "Project Personal Loan.ipynb",
      "provenance": [],
      "collapsed_sections": [
        "gT4U9C5JhBc_",
        "blvn-g_hV4Gh",
        "ZEjUtXiheikU"
      ]
    },
    "kernelspec": {
      "name": "python3",
      "display_name": "Python 3"
    },
    "language_info": {
      "name": "python"
    },
    "accelerator": "GPU",
    "gpuClass": "standard"
  },
  "cells": [
    {
      "cell_type": "markdown",
      "source": [
        "# **Personal Loan**"
      ],
      "metadata": {
        "id": "na3noOE34RBh"
      }
    },
    {
      "cell_type": "markdown",
      "source": [
        "●      ID: Customer ID\n",
        "\n",
        "●      Age: Customer’s age in completed years\n",
        "\n",
        "●      Experience: # years of professional experience\n",
        "\n",
        "●      Income: Annual income of the customer (in thousand dollars)\n",
        "\n",
        "●      ZIP Code: Home Address ZIP code.\n",
        "\n",
        "●      Family: the Family size of the customer\n",
        "\n",
        "●      CCAvg: Average spending on credit cards per month (in thousand dollars)\n",
        "\n",
        "●      Education: Education Level. 1: Undergrad; 2: Graduate;3: Advanced/Professional\n",
        "\n",
        "●      Mortgage: Value of house mortgage if any. (in thousand dollars)\n",
        "\n",
        "●      Personal_Loan: Did this customer accept the personal loan offered in the last campaign?\n",
        "\n",
        "●      Securities_Account: Does the customer have a securities account with the bank?\n",
        "\n",
        "●      CD_Account: Does the customer have a certificate of deposit (CD) account with the bank?\n",
        "\n",
        "●      Online: Do customers use internet banking facilities?\n",
        "\n",
        "●      CreditCard: Does the customer use a credit card issued by any other Bank (excluding ABC Bank)?"
      ],
      "metadata": {
        "id": "vbIukph34RsA"
      }
    },
    {
      "cell_type": "markdown",
      "source": [
        "##Starting Run"
      ],
      "metadata": {
        "id": "dAu-Z5Ph9egR"
      }
    },
    {
      "cell_type": "code",
      "source": [
        "!pip install fast_ml"
      ],
      "metadata": {
        "colab": {
          "base_uri": "https://localhost:8080/"
        },
        "id": "dMfg_tN1-GtN",
        "outputId": "e7650a00-1c86-4ef6-fe84-89baa34a8a80"
      },
      "execution_count": null,
      "outputs": [
        {
          "output_type": "stream",
          "name": "stdout",
          "text": [
            "Looking in indexes: https://pypi.org/simple, https://us-python.pkg.dev/colab-wheels/public/simple/\n",
            "Collecting fast_ml\n",
            "  Downloading fast_ml-3.68-py3-none-any.whl (42 kB)\n",
            "\u001b[K     |████████████████████████████████| 42 kB 766 kB/s \n",
            "\u001b[?25hInstalling collected packages: fast-ml\n",
            "Successfully installed fast-ml-3.68\n"
          ]
        }
      ]
    },
    {
      "cell_type": "code",
      "source": [
        "import pandas as pd\n",
        "import numpy as np\n",
        "import seaborn as sns\n",
        "import matplotlib.pyplot as plt\n",
        "import sklearn\n",
        "import fast_ml\n",
        "\n",
        "\n",
        "#Data Preprocessing and Model Building\n",
        "from sklearn.model_selection import train_test_split\n",
        "from fast_ml.model_development import train_valid_test_split\n",
        "from sklearn.preprocessing import StandardScaler, MinMaxScaler, RobustScaler\n",
        "from imblearn.over_sampling import SMOTE\n",
        "\n",
        "from sklearn.linear_model import LogisticRegression\n",
        "from sklearn.ensemble import RandomForestClassifier, RandomForestRegressor\n",
        "from sklearn.tree import DecisionTreeClassifier, DecisionTreeRegressor\n",
        "from sklearn.svm import SVC\n",
        "from sklearn.neighbors import KNeighborsClassifier\n",
        "\n",
        "#Model Validation\n",
        "from sklearn import metrics\n",
        "from sklearn.metrics import mean_absolute_error as mae\n",
        "from sklearn.metrics import confusion_matrix,classification_report, accuracy_score, roc_auc_score\n",
        "\n",
        "\n",
        "#etc\n",
        "from collections import Counter\n",
        "from sklearn import tree"
      ],
      "metadata": {
        "id": "4-T_ThWscIN8"
      },
      "execution_count": null,
      "outputs": []
    },
    {
      "cell_type": "code",
      "execution_count": null,
      "metadata": {
        "id": "IkvUScvufokL",
        "colab": {
          "base_uri": "https://localhost:8080/"
        },
        "outputId": "1033fcad-b851-4111-9ad8-13b1c399d312"
      },
      "outputs": [
        {
          "output_type": "stream",
          "name": "stdout",
          "text": [
            "Mounted at /content/drive\n"
          ]
        }
      ],
      "source": [
        "from google.colab import drive\n",
        "drive.mount('/content/drive')"
      ]
    },
    {
      "cell_type": "code",
      "source": [
        "#import data \n",
        "\n",
        "#bank = pd.read_csv('/content/drive/MyDrive/Colab Notebooks/Final Project/personal_loan.csv') #adel\n",
        "bank = pd.read_csv('/content/drive/My Drive/Classroom/Project/personal_loan.csv') #Aul\n",
        "#bank = pd.read_csv('/content/drive/MyDrive/Digital Skola/personal_loan.csv') #Ram\n",
        "#bank = pd.read_csv('/content/drive/MyDrive/Final Project DS15 Numpy team/personal_loan.csv') #Aji"
      ],
      "metadata": {
        "id": "lVMe-WBHgh9f"
      },
      "execution_count": null,
      "outputs": []
    },
    {
      "cell_type": "code",
      "source": [
        "bank.head()"
      ],
      "metadata": {
        "id": "xezntHNVgx2f",
        "colab": {
          "base_uri": "https://localhost:8080/",
          "height": 206
        },
        "outputId": "35f32439-0579-4184-9935-3671445a85be"
      },
      "execution_count": null,
      "outputs": [
        {
          "output_type": "execute_result",
          "data": {
            "text/plain": [
              "   ID  Age  Experience  Income  ZIP Code  Family  CCAvg  Education  Mortgage  \\\n",
              "0   1   25           1      49     91107       4    1.6          1         0   \n",
              "1   2   45          19      34     90089       3    1.5          1         0   \n",
              "2   3   39          15      11     94720       1    1.0          1         0   \n",
              "3   4   35           9     100     94112       1    2.7          2         0   \n",
              "4   5   35           8      45     91330       4    1.0          2         0   \n",
              "\n",
              "   Personal Loan  Securities Account  CD Account  Online  CreditCard  \n",
              "0              0                   1           0       0           0  \n",
              "1              0                   1           0       0           0  \n",
              "2              0                   0           0       0           0  \n",
              "3              0                   0           0       0           0  \n",
              "4              0                   0           0       0           1  "
            ],
            "text/html": [
              "\n",
              "  <div id=\"df-cefc158f-8757-430e-a181-44c920690a88\">\n",
              "    <div class=\"colab-df-container\">\n",
              "      <div>\n",
              "<style scoped>\n",
              "    .dataframe tbody tr th:only-of-type {\n",
              "        vertical-align: middle;\n",
              "    }\n",
              "\n",
              "    .dataframe tbody tr th {\n",
              "        vertical-align: top;\n",
              "    }\n",
              "\n",
              "    .dataframe thead th {\n",
              "        text-align: right;\n",
              "    }\n",
              "</style>\n",
              "<table border=\"1\" class=\"dataframe\">\n",
              "  <thead>\n",
              "    <tr style=\"text-align: right;\">\n",
              "      <th></th>\n",
              "      <th>ID</th>\n",
              "      <th>Age</th>\n",
              "      <th>Experience</th>\n",
              "      <th>Income</th>\n",
              "      <th>ZIP Code</th>\n",
              "      <th>Family</th>\n",
              "      <th>CCAvg</th>\n",
              "      <th>Education</th>\n",
              "      <th>Mortgage</th>\n",
              "      <th>Personal Loan</th>\n",
              "      <th>Securities Account</th>\n",
              "      <th>CD Account</th>\n",
              "      <th>Online</th>\n",
              "      <th>CreditCard</th>\n",
              "    </tr>\n",
              "  </thead>\n",
              "  <tbody>\n",
              "    <tr>\n",
              "      <th>0</th>\n",
              "      <td>1</td>\n",
              "      <td>25</td>\n",
              "      <td>1</td>\n",
              "      <td>49</td>\n",
              "      <td>91107</td>\n",
              "      <td>4</td>\n",
              "      <td>1.6</td>\n",
              "      <td>1</td>\n",
              "      <td>0</td>\n",
              "      <td>0</td>\n",
              "      <td>1</td>\n",
              "      <td>0</td>\n",
              "      <td>0</td>\n",
              "      <td>0</td>\n",
              "    </tr>\n",
              "    <tr>\n",
              "      <th>1</th>\n",
              "      <td>2</td>\n",
              "      <td>45</td>\n",
              "      <td>19</td>\n",
              "      <td>34</td>\n",
              "      <td>90089</td>\n",
              "      <td>3</td>\n",
              "      <td>1.5</td>\n",
              "      <td>1</td>\n",
              "      <td>0</td>\n",
              "      <td>0</td>\n",
              "      <td>1</td>\n",
              "      <td>0</td>\n",
              "      <td>0</td>\n",
              "      <td>0</td>\n",
              "    </tr>\n",
              "    <tr>\n",
              "      <th>2</th>\n",
              "      <td>3</td>\n",
              "      <td>39</td>\n",
              "      <td>15</td>\n",
              "      <td>11</td>\n",
              "      <td>94720</td>\n",
              "      <td>1</td>\n",
              "      <td>1.0</td>\n",
              "      <td>1</td>\n",
              "      <td>0</td>\n",
              "      <td>0</td>\n",
              "      <td>0</td>\n",
              "      <td>0</td>\n",
              "      <td>0</td>\n",
              "      <td>0</td>\n",
              "    </tr>\n",
              "    <tr>\n",
              "      <th>3</th>\n",
              "      <td>4</td>\n",
              "      <td>35</td>\n",
              "      <td>9</td>\n",
              "      <td>100</td>\n",
              "      <td>94112</td>\n",
              "      <td>1</td>\n",
              "      <td>2.7</td>\n",
              "      <td>2</td>\n",
              "      <td>0</td>\n",
              "      <td>0</td>\n",
              "      <td>0</td>\n",
              "      <td>0</td>\n",
              "      <td>0</td>\n",
              "      <td>0</td>\n",
              "    </tr>\n",
              "    <tr>\n",
              "      <th>4</th>\n",
              "      <td>5</td>\n",
              "      <td>35</td>\n",
              "      <td>8</td>\n",
              "      <td>45</td>\n",
              "      <td>91330</td>\n",
              "      <td>4</td>\n",
              "      <td>1.0</td>\n",
              "      <td>2</td>\n",
              "      <td>0</td>\n",
              "      <td>0</td>\n",
              "      <td>0</td>\n",
              "      <td>0</td>\n",
              "      <td>0</td>\n",
              "      <td>1</td>\n",
              "    </tr>\n",
              "  </tbody>\n",
              "</table>\n",
              "</div>\n",
              "      <button class=\"colab-df-convert\" onclick=\"convertToInteractive('df-cefc158f-8757-430e-a181-44c920690a88')\"\n",
              "              title=\"Convert this dataframe to an interactive table.\"\n",
              "              style=\"display:none;\">\n",
              "        \n",
              "  <svg xmlns=\"http://www.w3.org/2000/svg\" height=\"24px\"viewBox=\"0 0 24 24\"\n",
              "       width=\"24px\">\n",
              "    <path d=\"M0 0h24v24H0V0z\" fill=\"none\"/>\n",
              "    <path d=\"M18.56 5.44l.94 2.06.94-2.06 2.06-.94-2.06-.94-.94-2.06-.94 2.06-2.06.94zm-11 1L8.5 8.5l.94-2.06 2.06-.94-2.06-.94L8.5 2.5l-.94 2.06-2.06.94zm10 10l.94 2.06.94-2.06 2.06-.94-2.06-.94-.94-2.06-.94 2.06-2.06.94z\"/><path d=\"M17.41 7.96l-1.37-1.37c-.4-.4-.92-.59-1.43-.59-.52 0-1.04.2-1.43.59L10.3 9.45l-7.72 7.72c-.78.78-.78 2.05 0 2.83L4 21.41c.39.39.9.59 1.41.59.51 0 1.02-.2 1.41-.59l7.78-7.78 2.81-2.81c.8-.78.8-2.07 0-2.86zM5.41 20L4 18.59l7.72-7.72 1.47 1.35L5.41 20z\"/>\n",
              "  </svg>\n",
              "      </button>\n",
              "      \n",
              "  <style>\n",
              "    .colab-df-container {\n",
              "      display:flex;\n",
              "      flex-wrap:wrap;\n",
              "      gap: 12px;\n",
              "    }\n",
              "\n",
              "    .colab-df-convert {\n",
              "      background-color: #E8F0FE;\n",
              "      border: none;\n",
              "      border-radius: 50%;\n",
              "      cursor: pointer;\n",
              "      display: none;\n",
              "      fill: #1967D2;\n",
              "      height: 32px;\n",
              "      padding: 0 0 0 0;\n",
              "      width: 32px;\n",
              "    }\n",
              "\n",
              "    .colab-df-convert:hover {\n",
              "      background-color: #E2EBFA;\n",
              "      box-shadow: 0px 1px 2px rgba(60, 64, 67, 0.3), 0px 1px 3px 1px rgba(60, 64, 67, 0.15);\n",
              "      fill: #174EA6;\n",
              "    }\n",
              "\n",
              "    [theme=dark] .colab-df-convert {\n",
              "      background-color: #3B4455;\n",
              "      fill: #D2E3FC;\n",
              "    }\n",
              "\n",
              "    [theme=dark] .colab-df-convert:hover {\n",
              "      background-color: #434B5C;\n",
              "      box-shadow: 0px 1px 3px 1px rgba(0, 0, 0, 0.15);\n",
              "      filter: drop-shadow(0px 1px 2px rgba(0, 0, 0, 0.3));\n",
              "      fill: #FFFFFF;\n",
              "    }\n",
              "  </style>\n",
              "\n",
              "      <script>\n",
              "        const buttonEl =\n",
              "          document.querySelector('#df-cefc158f-8757-430e-a181-44c920690a88 button.colab-df-convert');\n",
              "        buttonEl.style.display =\n",
              "          google.colab.kernel.accessAllowed ? 'block' : 'none';\n",
              "\n",
              "        async function convertToInteractive(key) {\n",
              "          const element = document.querySelector('#df-cefc158f-8757-430e-a181-44c920690a88');\n",
              "          const dataTable =\n",
              "            await google.colab.kernel.invokeFunction('convertToInteractive',\n",
              "                                                     [key], {});\n",
              "          if (!dataTable) return;\n",
              "\n",
              "          const docLinkHtml = 'Like what you see? Visit the ' +\n",
              "            '<a target=\"_blank\" href=https://colab.research.google.com/notebooks/data_table.ipynb>data table notebook</a>'\n",
              "            + ' to learn more about interactive tables.';\n",
              "          element.innerHTML = '';\n",
              "          dataTable['output_type'] = 'display_data';\n",
              "          await google.colab.output.renderOutput(dataTable, element);\n",
              "          const docLink = document.createElement('div');\n",
              "          docLink.innerHTML = docLinkHtml;\n",
              "          element.appendChild(docLink);\n",
              "        }\n",
              "      </script>\n",
              "    </div>\n",
              "  </div>\n",
              "  "
            ]
          },
          "metadata": {},
          "execution_count": 6
        }
      ]
    },
    {
      "cell_type": "code",
      "source": [
        "bank.columns"
      ],
      "metadata": {
        "id": "daT3hK7LbUGr",
        "colab": {
          "base_uri": "https://localhost:8080/"
        },
        "outputId": "08fedcd0-d49c-40e4-82e8-fb058410ea85"
      },
      "execution_count": null,
      "outputs": [
        {
          "output_type": "execute_result",
          "data": {
            "text/plain": [
              "Index(['ID', 'Age', 'Experience', 'Income', 'ZIP Code', 'Family', 'CCAvg',\n",
              "       'Education', 'Mortgage', 'Personal Loan', 'Securities Account',\n",
              "       'CD Account', 'Online', 'CreditCard'],\n",
              "      dtype='object')"
            ]
          },
          "metadata": {},
          "execution_count": 7
        }
      ]
    },
    {
      "cell_type": "code",
      "source": [
        "bank.rename(columns={'ID':'id', 'Age':'age', 'Experience':'exp', 'Income':'income', 'ZIP Code':'zip_code', 'Family':'family', 'CCAvg':'ccavg',\n",
        "       'Education':'edu', 'Mortgage':'mortgage', 'Personal Loan':'personal_loan', 'Securities Account':'securities',\n",
        "       'CD Account':'cd', 'Online':'online', 'CreditCard':'cc'}, inplace=True)"
      ],
      "metadata": {
        "id": "rJKUXUKibaMV"
      },
      "execution_count": null,
      "outputs": []
    },
    {
      "cell_type": "markdown",
      "source": [
        "Pembuatan Age Group supaya visualisasi lebih jelas\n",
        "\n",
        "Kalau mau liat perbedaan pake agegroup atau engga, tinggal ganti agegroup dengan age"
      ],
      "metadata": {
        "id": "Gzijs_ne7ytQ"
      }
    },
    {
      "cell_type": "code",
      "source": [
        "#a = 23 // 10 * 10\n",
        "#a"
      ],
      "metadata": {
        "id": "lfZlJA-3g1bF"
      },
      "execution_count": null,
      "outputs": []
    },
    {
      "cell_type": "code",
      "source": [
        "bank[\"agegroup\"] = bank[\"age\"] // 10 * 10\n",
        "bank = bank.sort_values(by = \"agegroup\")\n",
        "bank[\"agegroup\"] = bank[\"agegroup\"].astype(str) + \"s\"\n",
        "bank[\"agegroup\"]"
      ],
      "metadata": {
        "id": "rD5Wt6S-hEIh",
        "colab": {
          "base_uri": "https://localhost:8080/"
        },
        "outputId": "bae9657f-9402-4657-fabb-0c074c7d8091"
      },
      "execution_count": null,
      "outputs": [
        {
          "output_type": "execute_result",
          "data": {
            "text/plain": [
              "0       20s\n",
              "1811    20s\n",
              "1839    20s\n",
              "1847    20s\n",
              "1868    20s\n",
              "       ... \n",
              "3792    60s\n",
              "4395    60s\n",
              "1574    60s\n",
              "3800    60s\n",
              "440     60s\n",
              "Name: agegroup, Length: 5000, dtype: object"
            ]
          },
          "metadata": {},
          "execution_count": 8
        }
      ]
    },
    {
      "cell_type": "markdown",
      "source": [
        "## **Explanatory Research**"
      ],
      "metadata": {
        "id": "gT4U9C5JhBc_"
      }
    },
    {
      "cell_type": "code",
      "source": [
        "bank.isnull().sum()"
      ],
      "metadata": {
        "id": "ZOZ5E5l5hJyJ",
        "colab": {
          "base_uri": "https://localhost:8080/"
        },
        "outputId": "dfcf552f-d20e-4924-ba16-44d575ccbd18"
      },
      "execution_count": null,
      "outputs": [
        {
          "output_type": "execute_result",
          "data": {
            "text/plain": [
              "id               0\n",
              "age              0\n",
              "exp              0\n",
              "income           0\n",
              "zip_code         0\n",
              "family           0\n",
              "ccavg            0\n",
              "edu              0\n",
              "mortgage         0\n",
              "personal_loan    0\n",
              "securities       0\n",
              "cd               0\n",
              "online           0\n",
              "cc               0\n",
              "agegroup         0\n",
              "dtype: int64"
            ]
          },
          "metadata": {},
          "execution_count": 60
        }
      ]
    },
    {
      "cell_type": "code",
      "source": [
        "bank.duplicated().sum()"
      ],
      "metadata": {
        "id": "QLu9mSeNhS2Y",
        "colab": {
          "base_uri": "https://localhost:8080/"
        },
        "outputId": "10abee85-b112-49fb-d500-c15bf6e55458"
      },
      "execution_count": null,
      "outputs": [
        {
          "output_type": "execute_result",
          "data": {
            "text/plain": [
              "0"
            ]
          },
          "metadata": {},
          "execution_count": 61
        }
      ]
    },
    {
      "cell_type": "code",
      "source": [
        "bank.shape"
      ],
      "metadata": {
        "id": "ohU5mA8khkMV",
        "colab": {
          "base_uri": "https://localhost:8080/"
        },
        "outputId": "9105a21e-7c75-483f-9c9a-ae218add2c76"
      },
      "execution_count": null,
      "outputs": [
        {
          "output_type": "execute_result",
          "data": {
            "text/plain": [
              "(5000, 15)"
            ]
          },
          "metadata": {},
          "execution_count": 62
        }
      ]
    },
    {
      "cell_type": "code",
      "source": [
        "bank.dtypes"
      ],
      "metadata": {
        "id": "Um88sPOdhoE8",
        "colab": {
          "base_uri": "https://localhost:8080/"
        },
        "outputId": "d9ef6588-2c76-4d61-e203-85cd4f77b187"
      },
      "execution_count": null,
      "outputs": [
        {
          "output_type": "execute_result",
          "data": {
            "text/plain": [
              "id                 int64\n",
              "age                int64\n",
              "exp                int64\n",
              "income             int64\n",
              "zip_code           int64\n",
              "family             int64\n",
              "ccavg            float64\n",
              "edu                int64\n",
              "mortgage           int64\n",
              "personal_loan      int64\n",
              "securities         int64\n",
              "cd                 int64\n",
              "online             int64\n",
              "cc                 int64\n",
              "agegroup          object\n",
              "dtype: object"
            ]
          },
          "metadata": {},
          "execution_count": 63
        }
      ]
    },
    {
      "cell_type": "markdown",
      "source": [
        "## Exploratory Data Analysis & Data Visualization"
      ],
      "metadata": {
        "id": "blvn-g_hV4Gh"
      }
    },
    {
      "cell_type": "code",
      "source": [
        "bank.describe()"
      ],
      "metadata": {
        "id": "cHw3jJ0xg_CJ",
        "colab": {
          "base_uri": "https://localhost:8080/",
          "height": 364
        },
        "outputId": "c63bcc09-60f8-48a7-8ff9-87587b99b1e3"
      },
      "execution_count": null,
      "outputs": [
        {
          "output_type": "execute_result",
          "data": {
            "text/plain": [
              "                id          age          exp       income      zip_code  \\\n",
              "count  5000.000000  5000.000000  5000.000000  5000.000000   5000.000000   \n",
              "mean   2500.500000    45.338400    20.104600    73.774200  93152.503000   \n",
              "std    1443.520003    11.463166    11.467954    46.033729   2121.852197   \n",
              "min       1.000000    23.000000    -3.000000     8.000000   9307.000000   \n",
              "25%    1250.750000    35.000000    10.000000    39.000000  91911.000000   \n",
              "50%    2500.500000    45.000000    20.000000    64.000000  93437.000000   \n",
              "75%    3750.250000    55.000000    30.000000    98.000000  94608.000000   \n",
              "max    5000.000000    67.000000    43.000000   224.000000  96651.000000   \n",
              "\n",
              "            family        ccavg          edu     mortgage  personal_loan  \\\n",
              "count  5000.000000  5000.000000  5000.000000  5000.000000    5000.000000   \n",
              "mean      2.396400     1.937938     1.881000    56.498800       0.096000   \n",
              "std       1.147663     1.747659     0.839869   101.713802       0.294621   \n",
              "min       1.000000     0.000000     1.000000     0.000000       0.000000   \n",
              "25%       1.000000     0.700000     1.000000     0.000000       0.000000   \n",
              "50%       2.000000     1.500000     2.000000     0.000000       0.000000   \n",
              "75%       3.000000     2.500000     3.000000   101.000000       0.000000   \n",
              "max       4.000000    10.000000     3.000000   635.000000       1.000000   \n",
              "\n",
              "        securities          cd       online           cc  \n",
              "count  5000.000000  5000.00000  5000.000000  5000.000000  \n",
              "mean      0.104400     0.06040     0.596800     0.294000  \n",
              "std       0.305809     0.23825     0.490589     0.455637  \n",
              "min       0.000000     0.00000     0.000000     0.000000  \n",
              "25%       0.000000     0.00000     0.000000     0.000000  \n",
              "50%       0.000000     0.00000     1.000000     0.000000  \n",
              "75%       0.000000     0.00000     1.000000     1.000000  \n",
              "max       1.000000     1.00000     1.000000     1.000000  "
            ],
            "text/html": [
              "\n",
              "  <div id=\"df-2ed2f908-e688-4e26-9e2d-c8d6e15c1b6e\">\n",
              "    <div class=\"colab-df-container\">\n",
              "      <div>\n",
              "<style scoped>\n",
              "    .dataframe tbody tr th:only-of-type {\n",
              "        vertical-align: middle;\n",
              "    }\n",
              "\n",
              "    .dataframe tbody tr th {\n",
              "        vertical-align: top;\n",
              "    }\n",
              "\n",
              "    .dataframe thead th {\n",
              "        text-align: right;\n",
              "    }\n",
              "</style>\n",
              "<table border=\"1\" class=\"dataframe\">\n",
              "  <thead>\n",
              "    <tr style=\"text-align: right;\">\n",
              "      <th></th>\n",
              "      <th>id</th>\n",
              "      <th>age</th>\n",
              "      <th>exp</th>\n",
              "      <th>income</th>\n",
              "      <th>zip_code</th>\n",
              "      <th>family</th>\n",
              "      <th>ccavg</th>\n",
              "      <th>edu</th>\n",
              "      <th>mortgage</th>\n",
              "      <th>personal_loan</th>\n",
              "      <th>securities</th>\n",
              "      <th>cd</th>\n",
              "      <th>online</th>\n",
              "      <th>cc</th>\n",
              "    </tr>\n",
              "  </thead>\n",
              "  <tbody>\n",
              "    <tr>\n",
              "      <th>count</th>\n",
              "      <td>5000.000000</td>\n",
              "      <td>5000.000000</td>\n",
              "      <td>5000.000000</td>\n",
              "      <td>5000.000000</td>\n",
              "      <td>5000.000000</td>\n",
              "      <td>5000.000000</td>\n",
              "      <td>5000.000000</td>\n",
              "      <td>5000.000000</td>\n",
              "      <td>5000.000000</td>\n",
              "      <td>5000.000000</td>\n",
              "      <td>5000.000000</td>\n",
              "      <td>5000.00000</td>\n",
              "      <td>5000.000000</td>\n",
              "      <td>5000.000000</td>\n",
              "    </tr>\n",
              "    <tr>\n",
              "      <th>mean</th>\n",
              "      <td>2500.500000</td>\n",
              "      <td>45.338400</td>\n",
              "      <td>20.104600</td>\n",
              "      <td>73.774200</td>\n",
              "      <td>93152.503000</td>\n",
              "      <td>2.396400</td>\n",
              "      <td>1.937938</td>\n",
              "      <td>1.881000</td>\n",
              "      <td>56.498800</td>\n",
              "      <td>0.096000</td>\n",
              "      <td>0.104400</td>\n",
              "      <td>0.06040</td>\n",
              "      <td>0.596800</td>\n",
              "      <td>0.294000</td>\n",
              "    </tr>\n",
              "    <tr>\n",
              "      <th>std</th>\n",
              "      <td>1443.520003</td>\n",
              "      <td>11.463166</td>\n",
              "      <td>11.467954</td>\n",
              "      <td>46.033729</td>\n",
              "      <td>2121.852197</td>\n",
              "      <td>1.147663</td>\n",
              "      <td>1.747659</td>\n",
              "      <td>0.839869</td>\n",
              "      <td>101.713802</td>\n",
              "      <td>0.294621</td>\n",
              "      <td>0.305809</td>\n",
              "      <td>0.23825</td>\n",
              "      <td>0.490589</td>\n",
              "      <td>0.455637</td>\n",
              "    </tr>\n",
              "    <tr>\n",
              "      <th>min</th>\n",
              "      <td>1.000000</td>\n",
              "      <td>23.000000</td>\n",
              "      <td>-3.000000</td>\n",
              "      <td>8.000000</td>\n",
              "      <td>9307.000000</td>\n",
              "      <td>1.000000</td>\n",
              "      <td>0.000000</td>\n",
              "      <td>1.000000</td>\n",
              "      <td>0.000000</td>\n",
              "      <td>0.000000</td>\n",
              "      <td>0.000000</td>\n",
              "      <td>0.00000</td>\n",
              "      <td>0.000000</td>\n",
              "      <td>0.000000</td>\n",
              "    </tr>\n",
              "    <tr>\n",
              "      <th>25%</th>\n",
              "      <td>1250.750000</td>\n",
              "      <td>35.000000</td>\n",
              "      <td>10.000000</td>\n",
              "      <td>39.000000</td>\n",
              "      <td>91911.000000</td>\n",
              "      <td>1.000000</td>\n",
              "      <td>0.700000</td>\n",
              "      <td>1.000000</td>\n",
              "      <td>0.000000</td>\n",
              "      <td>0.000000</td>\n",
              "      <td>0.000000</td>\n",
              "      <td>0.00000</td>\n",
              "      <td>0.000000</td>\n",
              "      <td>0.000000</td>\n",
              "    </tr>\n",
              "    <tr>\n",
              "      <th>50%</th>\n",
              "      <td>2500.500000</td>\n",
              "      <td>45.000000</td>\n",
              "      <td>20.000000</td>\n",
              "      <td>64.000000</td>\n",
              "      <td>93437.000000</td>\n",
              "      <td>2.000000</td>\n",
              "      <td>1.500000</td>\n",
              "      <td>2.000000</td>\n",
              "      <td>0.000000</td>\n",
              "      <td>0.000000</td>\n",
              "      <td>0.000000</td>\n",
              "      <td>0.00000</td>\n",
              "      <td>1.000000</td>\n",
              "      <td>0.000000</td>\n",
              "    </tr>\n",
              "    <tr>\n",
              "      <th>75%</th>\n",
              "      <td>3750.250000</td>\n",
              "      <td>55.000000</td>\n",
              "      <td>30.000000</td>\n",
              "      <td>98.000000</td>\n",
              "      <td>94608.000000</td>\n",
              "      <td>3.000000</td>\n",
              "      <td>2.500000</td>\n",
              "      <td>3.000000</td>\n",
              "      <td>101.000000</td>\n",
              "      <td>0.000000</td>\n",
              "      <td>0.000000</td>\n",
              "      <td>0.00000</td>\n",
              "      <td>1.000000</td>\n",
              "      <td>1.000000</td>\n",
              "    </tr>\n",
              "    <tr>\n",
              "      <th>max</th>\n",
              "      <td>5000.000000</td>\n",
              "      <td>67.000000</td>\n",
              "      <td>43.000000</td>\n",
              "      <td>224.000000</td>\n",
              "      <td>96651.000000</td>\n",
              "      <td>4.000000</td>\n",
              "      <td>10.000000</td>\n",
              "      <td>3.000000</td>\n",
              "      <td>635.000000</td>\n",
              "      <td>1.000000</td>\n",
              "      <td>1.000000</td>\n",
              "      <td>1.00000</td>\n",
              "      <td>1.000000</td>\n",
              "      <td>1.000000</td>\n",
              "    </tr>\n",
              "  </tbody>\n",
              "</table>\n",
              "</div>\n",
              "      <button class=\"colab-df-convert\" onclick=\"convertToInteractive('df-2ed2f908-e688-4e26-9e2d-c8d6e15c1b6e')\"\n",
              "              title=\"Convert this dataframe to an interactive table.\"\n",
              "              style=\"display:none;\">\n",
              "        \n",
              "  <svg xmlns=\"http://www.w3.org/2000/svg\" height=\"24px\"viewBox=\"0 0 24 24\"\n",
              "       width=\"24px\">\n",
              "    <path d=\"M0 0h24v24H0V0z\" fill=\"none\"/>\n",
              "    <path d=\"M18.56 5.44l.94 2.06.94-2.06 2.06-.94-2.06-.94-.94-2.06-.94 2.06-2.06.94zm-11 1L8.5 8.5l.94-2.06 2.06-.94-2.06-.94L8.5 2.5l-.94 2.06-2.06.94zm10 10l.94 2.06.94-2.06 2.06-.94-2.06-.94-.94-2.06-.94 2.06-2.06.94z\"/><path d=\"M17.41 7.96l-1.37-1.37c-.4-.4-.92-.59-1.43-.59-.52 0-1.04.2-1.43.59L10.3 9.45l-7.72 7.72c-.78.78-.78 2.05 0 2.83L4 21.41c.39.39.9.59 1.41.59.51 0 1.02-.2 1.41-.59l7.78-7.78 2.81-2.81c.8-.78.8-2.07 0-2.86zM5.41 20L4 18.59l7.72-7.72 1.47 1.35L5.41 20z\"/>\n",
              "  </svg>\n",
              "      </button>\n",
              "      \n",
              "  <style>\n",
              "    .colab-df-container {\n",
              "      display:flex;\n",
              "      flex-wrap:wrap;\n",
              "      gap: 12px;\n",
              "    }\n",
              "\n",
              "    .colab-df-convert {\n",
              "      background-color: #E8F0FE;\n",
              "      border: none;\n",
              "      border-radius: 50%;\n",
              "      cursor: pointer;\n",
              "      display: none;\n",
              "      fill: #1967D2;\n",
              "      height: 32px;\n",
              "      padding: 0 0 0 0;\n",
              "      width: 32px;\n",
              "    }\n",
              "\n",
              "    .colab-df-convert:hover {\n",
              "      background-color: #E2EBFA;\n",
              "      box-shadow: 0px 1px 2px rgba(60, 64, 67, 0.3), 0px 1px 3px 1px rgba(60, 64, 67, 0.15);\n",
              "      fill: #174EA6;\n",
              "    }\n",
              "\n",
              "    [theme=dark] .colab-df-convert {\n",
              "      background-color: #3B4455;\n",
              "      fill: #D2E3FC;\n",
              "    }\n",
              "\n",
              "    [theme=dark] .colab-df-convert:hover {\n",
              "      background-color: #434B5C;\n",
              "      box-shadow: 0px 1px 3px 1px rgba(0, 0, 0, 0.15);\n",
              "      filter: drop-shadow(0px 1px 2px rgba(0, 0, 0, 0.3));\n",
              "      fill: #FFFFFF;\n",
              "    }\n",
              "  </style>\n",
              "\n",
              "      <script>\n",
              "        const buttonEl =\n",
              "          document.querySelector('#df-2ed2f908-e688-4e26-9e2d-c8d6e15c1b6e button.colab-df-convert');\n",
              "        buttonEl.style.display =\n",
              "          google.colab.kernel.accessAllowed ? 'block' : 'none';\n",
              "\n",
              "        async function convertToInteractive(key) {\n",
              "          const element = document.querySelector('#df-2ed2f908-e688-4e26-9e2d-c8d6e15c1b6e');\n",
              "          const dataTable =\n",
              "            await google.colab.kernel.invokeFunction('convertToInteractive',\n",
              "                                                     [key], {});\n",
              "          if (!dataTable) return;\n",
              "\n",
              "          const docLinkHtml = 'Like what you see? Visit the ' +\n",
              "            '<a target=\"_blank\" href=https://colab.research.google.com/notebooks/data_table.ipynb>data table notebook</a>'\n",
              "            + ' to learn more about interactive tables.';\n",
              "          element.innerHTML = '';\n",
              "          dataTable['output_type'] = 'display_data';\n",
              "          await google.colab.output.renderOutput(dataTable, element);\n",
              "          const docLink = document.createElement('div');\n",
              "          docLink.innerHTML = docLinkHtml;\n",
              "          element.appendChild(docLink);\n",
              "        }\n",
              "      </script>\n",
              "    </div>\n",
              "  </div>\n",
              "  "
            ]
          },
          "metadata": {},
          "execution_count": 64
        }
      ]
    },
    {
      "cell_type": "markdown",
      "source": [
        "\n",
        "\n",
        "1.   Average age of ABC customers is 45 years old, with the range of 23 until 67 years old\n",
        "2.   Average spending for credit card per person in a month is $1.937\n",
        "3.   Experience -3 years\n",
        "4.   Personal loan (target column) 0-75% data distribution value is 0 which indicated data imbalance\n",
        "5.   Tidak duplicate\n",
        "6.   Tidak ada null\n",
        "\n",
        "\n",
        "\n"
      ],
      "metadata": {
        "id": "d5HiP3-RWD6q"
      }
    },
    {
      "cell_type": "code",
      "source": [
        "sns.distplot(bank['age'])\n",
        "plt.title('ABC Bank Customer Age Distribution')"
      ],
      "metadata": {
        "id": "751Zj_v2V9I7",
        "colab": {
          "base_uri": "https://localhost:8080/",
          "height": 312
        },
        "outputId": "c6e9b2ca-3716-44db-e16f-578f52404caa"
      },
      "execution_count": null,
      "outputs": [
        {
          "output_type": "execute_result",
          "data": {
            "text/plain": [
              "Text(0.5, 1.0, 'ABC Bank Customer Age Distribution')"
            ]
          },
          "metadata": {},
          "execution_count": 65
        },
        {
          "output_type": "display_data",
          "data": {
            "text/plain": [
              "<Figure size 432x288 with 1 Axes>"
            ],
            "image/png": "[encoded data removed]"
          },
          "metadata": {
            "needs_background": "light"
          }
        }
      ]
    },
    {
      "cell_type": "markdown",
      "source": [
        "* Customer's age is almost uniformedly distributed. \n",
        "* Customer's age has fairly distributed in each 30s, 40s, 50s and 60s. \n"
      ],
      "metadata": {
        "id": "zG6Wj6AsZuP9"
      }
    },
    {
      "cell_type": "code",
      "source": [
        "bank[\"personal_loan\"].value_counts()"
      ],
      "metadata": {
        "id": "mIRHOy_6YMla",
        "colab": {
          "base_uri": "https://localhost:8080/"
        },
        "outputId": "3596d3a2-e3bb-4d95-bff6-2009b296f817"
      },
      "execution_count": null,
      "outputs": [
        {
          "output_type": "execute_result",
          "data": {
            "text/plain": [
              "0    4520\n",
              "1     480\n",
              "Name: personal_loan, dtype: int64"
            ]
          },
          "metadata": {},
          "execution_count": 66
        }
      ]
    },
    {
      "cell_type": "code",
      "source": [
        "sns.countplot(\"personal_loan\",data=bank)"
      ],
      "metadata": {
        "id": "VjiGLPwJktCQ",
        "colab": {
          "base_uri": "https://localhost:8080/",
          "height": 297
        },
        "outputId": "c89cc877-9b57-4875-f81e-a058b4a93352"
      },
      "execution_count": null,
      "outputs": [
        {
          "output_type": "execute_result",
          "data": {
            "text/plain": [
              "<matplotlib.axes._subplots.AxesSubplot at 0x7f11e4671150>"
            ]
          },
          "metadata": {},
          "execution_count": 67
        },
        {
          "output_type": "display_data",
          "data": {
            "text/plain": [
              "<Figure size 432x288 with 1 Axes>"
            ],
            "image/png": "[encoded data removed]"
          },
          "metadata": {
            "needs_background": "light"
          }
        }
      ]
    },
    {
      "cell_type": "code",
      "source": [
        "plt.pie(bank['personal_loan'].value_counts(), labels = ['Depositor', 'Borrower'], \n",
        "        autopct='%1.1f%%', startangle = 90)\n",
        "plt.title('Proportion of Existing and Attrited Customer count', fontsize = 16)\n",
        "plt.show()"
      ],
      "metadata": {
        "id": "EFWzzYKolEDr",
        "colab": {
          "base_uri": "https://localhost:8080/",
          "height": 266
        },
        "outputId": "afb416c5-5a11-4add-aef3-79f5d2e10dbe"
      },
      "execution_count": null,
      "outputs": [
        {
          "output_type": "display_data",
          "data": {
            "text/plain": [
              "<Figure size 432x288 with 1 Axes>"
            ],
            "image/png": "[encoded data removed]"
          },
          "metadata": {}
        }
      ]
    },
    {
      "cell_type": "code",
      "source": [
        "#Versi Scatterplot\n",
        "\n",
        "plt.figure(figsize=(15, 10))\n",
        "sns.scatterplot(data = bank, x=\"age\", y=\"income\",\n",
        "                hue=\"personal_loan\")"
      ],
      "metadata": {
        "id": "IiqcC6LZlUGT",
        "colab": {
          "base_uri": "https://localhost:8080/",
          "height": 623
        },
        "outputId": "601d0a24-6937-489b-f103-eed3d8800eb2"
      },
      "execution_count": null,
      "outputs": [
        {
          "output_type": "execute_result",
          "data": {
            "text/plain": [
              "<matplotlib.axes._subplots.AxesSubplot at 0x7f11e46af110>"
            ]
          },
          "metadata": {},
          "execution_count": 69
        },
        {
          "output_type": "display_data",
          "data": {
            "text/plain": [
              "<Figure size 1080x720 with 1 Axes>"
            ],
            "image/png": "[encoded data removed]"
          },
          "metadata": {
            "needs_background": "light"
          }
        }
      ]
    },
    {
      "cell_type": "code",
      "source": [
        "#Versi Violinplot\n",
        "plt.figure(figsize=(15, 5))\n",
        "plt.axhline(y = 100, color = 'r', linestyle = '-')\n",
        "sns.violinplot(data = bank, x=\"agegroup\", y=\"income\",\n",
        "                hue=\"personal_loan\", palette=\"muted\", split=True)"
      ],
      "metadata": {
        "id": "BzGIAOFmdG4C",
        "colab": {
          "base_uri": "https://localhost:8080/",
          "height": 351
        },
        "outputId": "c2bb4062-9e71-4fc9-8d7a-6cb9f895e7aa"
      },
      "execution_count": null,
      "outputs": [
        {
          "output_type": "execute_result",
          "data": {
            "text/plain": [
              "<matplotlib.axes._subplots.AxesSubplot at 0x7f11e46a4e90>"
            ]
          },
          "metadata": {},
          "execution_count": 70
        },
        {
          "output_type": "display_data",
          "data": {
            "text/plain": [
              "<Figure size 1080x360 with 1 Axes>"
            ],
            "image/png": "[encoded data removed]"
          },
          "metadata": {
            "needs_background": "light"
          }
        }
      ]
    },
    {
      "cell_type": "code",
      "source": [
        "#Boxen Plot\n",
        "plt.figure(figsize=(25, 10))\n",
        "sns.boxenplot(data = bank, x=\"agegroup\", y=\"income\",\n",
        "                hue=\"personal_loan\")\n",
        "plt.axhline(y = 100, color = 'r', linestyle = '-')"
      ],
      "metadata": {
        "id": "VMZNZReYe3JU",
        "colab": {
          "base_uri": "https://localhost:8080/",
          "height": 485
        },
        "outputId": "86da2bb3-c9b6-4a5e-9a66-61addcbf65d9"
      },
      "execution_count": null,
      "outputs": [
        {
          "output_type": "execute_result",
          "data": {
            "text/plain": [
              "<matplotlib.lines.Line2D at 0x7f11e457f4d0>"
            ]
          },
          "metadata": {},
          "execution_count": 71
        },
        {
          "output_type": "display_data",
          "data": {
            "text/plain": [
              "<Figure size 1800x720 with 1 Axes>"
            ],
            "image/png": "[encoded data removed]"
          },
          "metadata": {
            "needs_background": "light"
          }
        }
      ]
    },
    {
      "cell_type": "markdown",
      "source": [
        "People with income above $100.000 took the Personal Loan despite of age."
      ],
      "metadata": {
        "id": "A3mRmXshjBKo"
      }
    },
    {
      "cell_type": "code",
      "source": [
        "plt.figure(figsize=(10,4))\n",
        "sns.distplot(bank[bank[\"personal_loan\"] == 0]['ccavg'], color = 'r',label='personal_loan=0')\n",
        "sns.distplot(bank[bank[\"personal_loan\"] == 1]['ccavg'], color = 'b',label='personal_loan=1')\n",
        "plt.legend()\n",
        "plt.title(\"Ann_CCAvg Distribution\")"
      ],
      "metadata": {
        "id": "f88sZPxUrJ8Q",
        "colab": {
          "base_uri": "https://localhost:8080/",
          "height": 312
        },
        "outputId": "22500324-57ea-472b-e5e4-786349e09c72"
      },
      "execution_count": null,
      "outputs": [
        {
          "output_type": "execute_result",
          "data": {
            "text/plain": [
              "Text(0.5, 1.0, 'Ann_CCAvg Distribution')"
            ]
          },
          "metadata": {},
          "execution_count": 72
        },
        {
          "output_type": "display_data",
          "data": {
            "text/plain": [
              "<Figure size 720x288 with 1 Axes>"
            ],
            "image/png": "[encoded data removed]"
          },
          "metadata": {
            "needs_background": "light"
          }
        }
      ]
    },
    {
      "cell_type": "markdown",
      "source": [
        "Customers who have taken personal loan have higher credit card average than those who did not take loan. So high credit card average seems to be good predictor of whether or not a customer will take a personal loan."
      ],
      "metadata": {
        "id": "zvwH2k2crMsn"
      }
    },
    {
      "cell_type": "code",
      "source": [
        "pd.crosstab(bank['cd'],bank['personal_loan']).plot(kind='bar',stacked=True,title='CD Account')"
      ],
      "metadata": {
        "id": "LJ-gMYo8xHVm",
        "colab": {
          "base_uri": "https://localhost:8080/",
          "height": 309
        },
        "outputId": "94025dee-304d-462c-be8e-09503435acdf"
      },
      "execution_count": null,
      "outputs": [
        {
          "output_type": "execute_result",
          "data": {
            "text/plain": [
              "<matplotlib.axes._subplots.AxesSubplot at 0x7f11e4972810>"
            ]
          },
          "metadata": {},
          "execution_count": 73
        },
        {
          "output_type": "display_data",
          "data": {
            "text/plain": [
              "<Figure size 432x288 with 1 Axes>"
            ],
            "image/png": "[encoded data removed]"
          },
          "metadata": {
            "needs_background": "light"
          }
        }
      ]
    },
    {
      "cell_type": "markdown",
      "source": [
        "1. Almost 50% of customers having Certified Deposit, had borrowed Personal Loan\n",
        "2. However, 4358 customers out of 5000, do not have Certified Deposit Account and did not borrow Personal Loan\n",
        "\n",
        "\n"
      ],
      "metadata": {
        "id": "6sMNzVkBxKjn"
      }
    },
    {
      "cell_type": "code",
      "source": [
        "sns.countplot(\"edu\",hue = \"personal_loan\",data=bank)"
      ],
      "metadata": {
        "id": "9QtBFkPznTlQ",
        "colab": {
          "base_uri": "https://localhost:8080/",
          "height": 296
        },
        "outputId": "4870e5be-2f11-48f8-9b5a-a4ac7652855f"
      },
      "execution_count": null,
      "outputs": [
        {
          "output_type": "execute_result",
          "data": {
            "text/plain": [
              "<matplotlib.axes._subplots.AxesSubplot at 0x7f11e4317690>"
            ]
          },
          "metadata": {},
          "execution_count": 74
        },
        {
          "output_type": "display_data",
          "data": {
            "text/plain": [
              "<Figure size 432x288 with 1 Axes>"
            ],
            "image/png": "[encoded data removed]"
          },
          "metadata": {
            "needs_background": "light"
          }
        }
      ]
    },
    {
      "cell_type": "markdown",
      "source": [
        "Based on education level, professionals are the most who took Personal Loan\n",
        "\n",
        "--> "
      ],
      "metadata": {
        "id": "zXH8zJ4goDnV"
      }
    },
    {
      "cell_type": "code",
      "source": [
        "sns.countplot(\"cc\", hue = \"personal_loan\",data=bank)"
      ],
      "metadata": {
        "id": "FGdMfj9bn6Na",
        "colab": {
          "base_uri": "https://localhost:8080/",
          "height": 296
        },
        "outputId": "cf392684-04b4-4330-f4e9-b0d22b0be421"
      },
      "execution_count": null,
      "outputs": [
        {
          "output_type": "execute_result",
          "data": {
            "text/plain": [
              "<matplotlib.axes._subplots.AxesSubplot at 0x7f11e428fdd0>"
            ]
          },
          "metadata": {},
          "execution_count": 75
        },
        {
          "output_type": "display_data",
          "data": {
            "text/plain": [
              "<Figure size 432x288 with 1 Axes>"
            ],
            "image/png": "[encoded data removed]"
          },
          "metadata": {
            "needs_background": "light"
          }
        }
      ]
    },
    {
      "cell_type": "code",
      "source": [
        "plt.figure(figsize= (25,15))\n",
        "\n",
        "sns.heatmap(bank.corr(),vmin = -1, vmax = 1, cmap = 'viridis',annot = True)\n"
      ],
      "metadata": {
        "id": "3gbxw7RspE6i",
        "colab": {
          "base_uri": "https://localhost:8080/",
          "height": 839
        },
        "outputId": "bd798fbd-b2df-49e7-83b6-28789a092b43"
      },
      "execution_count": null,
      "outputs": [
        {
          "output_type": "execute_result",
          "data": {
            "text/plain": [
              "<matplotlib.axes._subplots.AxesSubplot at 0x7ff263141710>"
            ]
          },
          "metadata": {},
          "execution_count": 7
        },
        {
          "output_type": "display_data",
          "data": {
            "text/plain": [
              "<Figure size 1800x1080 with 2 Axes>"
            ],
            "image/png": "[encoded data removed]"
          },
          "metadata": {
            "needs_background": "light"
          }
        }
      ]
    },
    {
      "cell_type": "markdown",
      "source": [
        "There are multicollinearity between age and experience with the value of 0.99.\n"
      ],
      "metadata": {
        "id": "opacKAqRqdNA"
      }
    },
    {
      "cell_type": "code",
      "source": [
        "plt.figure(figsize=(15,5))\n",
        "bank.corr()[\"personal_loan\"].sort_values().plot(kind=\"bar\")"
      ],
      "metadata": {
        "id": "QrCm3ZBApowv",
        "colab": {
          "base_uri": "https://localhost:8080/",
          "height": 396
        },
        "outputId": "65f1628d-30f4-486b-9588-ba901cb051fe"
      },
      "execution_count": null,
      "outputs": [
        {
          "output_type": "execute_result",
          "data": {
            "text/plain": [
              "<matplotlib.axes._subplots.AxesSubplot at 0x7f11e41f5190>"
            ]
          },
          "metadata": {},
          "execution_count": 77
        },
        {
          "output_type": "display_data",
          "data": {
            "text/plain": [
              "<Figure size 1080x360 with 1 Axes>"
            ],
            "image/png": "[encoded data removed]"
          },
          "metadata": {
            "needs_background": "light"
          }
        }
      ]
    },
    {
      "cell_type": "markdown",
      "source": [
        "Income has the highest correlation score towards personal loan (0.5) therefore we might want to focus on income variable.\n",
        "People with income above $100.000 most probably will take the loan."
      ],
      "metadata": {
        "id": "EYLXlH1lq7Rc"
      }
    },
    {
      "cell_type": "markdown",
      "source": [
        "##Data Preparation"
      ],
      "metadata": {
        "id": "HEuGAANq7oOo"
      }
    },
    {
      "cell_type": "markdown",
      "source": [
        "###**Data Scaling**"
      ],
      "metadata": {
        "id": "utsxGT9zAvmK"
      }
    },
    {
      "cell_type": "code",
      "source": [
        "bank.info()"
      ],
      "metadata": {
        "id": "B9xzTx-e1YxR",
        "colab": {
          "base_uri": "https://localhost:8080/"
        },
        "outputId": "da718044-d1f8-4848-9d9f-0810249c2092"
      },
      "execution_count": null,
      "outputs": [
        {
          "output_type": "stream",
          "name": "stdout",
          "text": [
            "<class 'pandas.core.frame.DataFrame'>\n",
            "Int64Index: 5000 entries, 0 to 440\n",
            "Data columns (total 15 columns):\n",
            " #   Column         Non-Null Count  Dtype  \n",
            "---  ------         --------------  -----  \n",
            " 0   id             5000 non-null   int64  \n",
            " 1   age            5000 non-null   int64  \n",
            " 2   exp            5000 non-null   int64  \n",
            " 3   income         5000 non-null   int64  \n",
            " 4   zip_code       5000 non-null   int64  \n",
            " 5   family         5000 non-null   int64  \n",
            " 6   ccavg          5000 non-null   float64\n",
            " 7   edu            5000 non-null   int64  \n",
            " 8   mortgage       5000 non-null   int64  \n",
            " 9   personal_loan  5000 non-null   int64  \n",
            " 10  securities     5000 non-null   int64  \n",
            " 11  cd             5000 non-null   int64  \n",
            " 12  online         5000 non-null   int64  \n",
            " 13  cc             5000 non-null   int64  \n",
            " 14  agegroup       5000 non-null   object \n",
            "dtypes: float64(1), int64(13), object(1)\n",
            "memory usage: 754.0+ KB\n"
          ]
        }
      ]
    },
    {
      "cell_type": "code",
      "source": [
        "X = bank.drop(['exp', 'agegroup'], axis = 1)"
      ],
      "metadata": {
        "id": "U3t5KRjo_A21"
      },
      "execution_count": null,
      "outputs": []
    },
    {
      "cell_type": "code",
      "source": [
        "X.head(3)"
      ],
      "metadata": {
        "colab": {
          "base_uri": "https://localhost:8080/",
          "height": 143
        },
        "id": "eKHrxyJk-1sU",
        "outputId": "2c9a01b0-a0cb-4314-c3ef-972397101c78"
      },
      "execution_count": null,
      "outputs": [
        {
          "output_type": "execute_result",
          "data": {
            "text/plain": [
              "        id  age  income  zip_code  family  ccavg  edu  mortgage  \\\n",
              "0        1   25      49     91107       4    1.6    1         0   \n",
              "1811  1812   28      11     94534       4    0.5    3         0   \n",
              "1839  1840   28      43     95616       4    1.3    3         0   \n",
              "\n",
              "      personal_loan  securities  cd  online  cc  \n",
              "0                 0           1   0       0   0  \n",
              "1811              0           0   0       0   0  \n",
              "1839              0           0   0       1   1  "
            ],
            "text/html": [
              "\n",
              "  <div id=\"df-db3bd28e-4243-4685-ad56-6e7840cfd4bc\">\n",
              "    <div class=\"colab-df-container\">\n",
              "      <div>\n",
              "<style scoped>\n",
              "    .dataframe tbody tr th:only-of-type {\n",
              "        vertical-align: middle;\n",
              "    }\n",
              "\n",
              "    .dataframe tbody tr th {\n",
              "        vertical-align: top;\n",
              "    }\n",
              "\n",
              "    .dataframe thead th {\n",
              "        text-align: right;\n",
              "    }\n",
              "</style>\n",
              "<table border=\"1\" class=\"dataframe\">\n",
              "  <thead>\n",
              "    <tr style=\"text-align: right;\">\n",
              "      <th></th>\n",
              "      <th>id</th>\n",
              "      <th>age</th>\n",
              "      <th>income</th>\n",
              "      <th>zip_code</th>\n",
              "      <th>family</th>\n",
              "      <th>ccavg</th>\n",
              "      <th>edu</th>\n",
              "      <th>mortgage</th>\n",
              "      <th>personal_loan</th>\n",
              "      <th>securities</th>\n",
              "      <th>cd</th>\n",
              "      <th>online</th>\n",
              "      <th>cc</th>\n",
              "    </tr>\n",
              "  </thead>\n",
              "  <tbody>\n",
              "    <tr>\n",
              "      <th>0</th>\n",
              "      <td>1</td>\n",
              "      <td>25</td>\n",
              "      <td>49</td>\n",
              "      <td>91107</td>\n",
              "      <td>4</td>\n",
              "      <td>1.6</td>\n",
              "      <td>1</td>\n",
              "      <td>0</td>\n",
              "      <td>0</td>\n",
              "      <td>1</td>\n",
              "      <td>0</td>\n",
              "      <td>0</td>\n",
              "      <td>0</td>\n",
              "    </tr>\n",
              "    <tr>\n",
              "      <th>1811</th>\n",
              "      <td>1812</td>\n",
              "      <td>28</td>\n",
              "      <td>11</td>\n",
              "      <td>94534</td>\n",
              "      <td>4</td>\n",
              "      <td>0.5</td>\n",
              "      <td>3</td>\n",
              "      <td>0</td>\n",
              "      <td>0</td>\n",
              "      <td>0</td>\n",
              "      <td>0</td>\n",
              "      <td>0</td>\n",
              "      <td>0</td>\n",
              "    </tr>\n",
              "    <tr>\n",
              "      <th>1839</th>\n",
              "      <td>1840</td>\n",
              "      <td>28</td>\n",
              "      <td>43</td>\n",
              "      <td>95616</td>\n",
              "      <td>4</td>\n",
              "      <td>1.3</td>\n",
              "      <td>3</td>\n",
              "      <td>0</td>\n",
              "      <td>0</td>\n",
              "      <td>0</td>\n",
              "      <td>0</td>\n",
              "      <td>1</td>\n",
              "      <td>1</td>\n",
              "    </tr>\n",
              "  </tbody>\n",
              "</table>\n",
              "</div>\n",
              "      <button class=\"colab-df-convert\" onclick=\"convertToInteractive('df-db3bd28e-4243-4685-ad56-6e7840cfd4bc')\"\n",
              "              title=\"Convert this dataframe to an interactive table.\"\n",
              "              style=\"display:none;\">\n",
              "        \n",
              "  <svg xmlns=\"http://www.w3.org/2000/svg\" height=\"24px\"viewBox=\"0 0 24 24\"\n",
              "       width=\"24px\">\n",
              "    <path d=\"M0 0h24v24H0V0z\" fill=\"none\"/>\n",
              "    <path d=\"M18.56 5.44l.94 2.06.94-2.06 2.06-.94-2.06-.94-.94-2.06-.94 2.06-2.06.94zm-11 1L8.5 8.5l.94-2.06 2.06-.94-2.06-.94L8.5 2.5l-.94 2.06-2.06.94zm10 10l.94 2.06.94-2.06 2.06-.94-2.06-.94-.94-2.06-.94 2.06-2.06.94z\"/><path d=\"M17.41 7.96l-1.37-1.37c-.4-.4-.92-.59-1.43-.59-.52 0-1.04.2-1.43.59L10.3 9.45l-7.72 7.72c-.78.78-.78 2.05 0 2.83L4 21.41c.39.39.9.59 1.41.59.51 0 1.02-.2 1.41-.59l7.78-7.78 2.81-2.81c.8-.78.8-2.07 0-2.86zM5.41 20L4 18.59l7.72-7.72 1.47 1.35L5.41 20z\"/>\n",
              "  </svg>\n",
              "      </button>\n",
              "      \n",
              "  <style>\n",
              "    .colab-df-container {\n",
              "      display:flex;\n",
              "      flex-wrap:wrap;\n",
              "      gap: 12px;\n",
              "    }\n",
              "\n",
              "    .colab-df-convert {\n",
              "      background-color: #E8F0FE;\n",
              "      border: none;\n",
              "      border-radius: 50%;\n",
              "      cursor: pointer;\n",
              "      display: none;\n",
              "      fill: #1967D2;\n",
              "      height: 32px;\n",
              "      padding: 0 0 0 0;\n",
              "      width: 32px;\n",
              "    }\n",
              "\n",
              "    .colab-df-convert:hover {\n",
              "      background-color: #E2EBFA;\n",
              "      box-shadow: 0px 1px 2px rgba(60, 64, 67, 0.3), 0px 1px 3px 1px rgba(60, 64, 67, 0.15);\n",
              "      fill: #174EA6;\n",
              "    }\n",
              "\n",
              "    [theme=dark] .colab-df-convert {\n",
              "      background-color: #3B4455;\n",
              "      fill: #D2E3FC;\n",
              "    }\n",
              "\n",
              "    [theme=dark] .colab-df-convert:hover {\n",
              "      background-color: #434B5C;\n",
              "      box-shadow: 0px 1px 3px 1px rgba(0, 0, 0, 0.15);\n",
              "      filter: drop-shadow(0px 1px 2px rgba(0, 0, 0, 0.3));\n",
              "      fill: #FFFFFF;\n",
              "    }\n",
              "  </style>\n",
              "\n",
              "      <script>\n",
              "        const buttonEl =\n",
              "          document.querySelector('#df-db3bd28e-4243-4685-ad56-6e7840cfd4bc button.colab-df-convert');\n",
              "        buttonEl.style.display =\n",
              "          google.colab.kernel.accessAllowed ? 'block' : 'none';\n",
              "\n",
              "        async function convertToInteractive(key) {\n",
              "          const element = document.querySelector('#df-db3bd28e-4243-4685-ad56-6e7840cfd4bc');\n",
              "          const dataTable =\n",
              "            await google.colab.kernel.invokeFunction('convertToInteractive',\n",
              "                                                     [key], {});\n",
              "          if (!dataTable) return;\n",
              "\n",
              "          const docLinkHtml = 'Like what you see? Visit the ' +\n",
              "            '<a target=\"_blank\" href=https://colab.research.google.com/notebooks/data_table.ipynb>data table notebook</a>'\n",
              "            + ' to learn more about interactive tables.';\n",
              "          element.innerHTML = '';\n",
              "          dataTable['output_type'] = 'display_data';\n",
              "          await google.colab.output.renderOutput(dataTable, element);\n",
              "          const docLink = document.createElement('div');\n",
              "          docLink.innerHTML = docLinkHtml;\n",
              "          element.appendChild(docLink);\n",
              "        }\n",
              "      </script>\n",
              "    </div>\n",
              "  </div>\n",
              "  "
            ]
          },
          "metadata": {},
          "execution_count": 11
        }
      ]
    },
    {
      "cell_type": "code",
      "source": [
        "X = X.set_index('id')\n",
        "X"
      ],
      "metadata": {
        "colab": {
          "base_uri": "https://localhost:8080/",
          "height": 455
        },
        "id": "ZTYnLal7-88Z",
        "outputId": "0e2895e6-fb22-4635-cb57-7385bfa03909"
      },
      "execution_count": null,
      "outputs": [
        {
          "output_type": "execute_result",
          "data": {
            "text/plain": [
              "      age  income  zip_code  family  ccavg  edu  mortgage  personal_loan  \\\n",
              "id                                                                         \n",
              "1      25      49     91107       4    1.6    1         0              0   \n",
              "1812   28      11     94534       4    0.5    3         0              0   \n",
              "1840   28      43     95616       4    1.3    3         0              0   \n",
              "1848   25      52     95126       3    2.6    3       159              0   \n",
              "1869   25     118     92833       1    5.4    1         0              0   \n",
              "...   ...     ...       ...     ...    ...  ...       ...            ...   \n",
              "3793   62     109     92709       4    1.7    3         0              0   \n",
              "4396   66      25     94720       4    0.6    2         0              0   \n",
              "1575   62      42     92106       3    1.5    1         0              0   \n",
              "3801   64      35     93955       1    0.5    3         0              0   \n",
              "441    64      59     92626       2    1.5    1       139              0   \n",
              "\n",
              "      securities  cd  online  cc  \n",
              "id                                \n",
              "1              1   0       0   0  \n",
              "1812           0   0       0   0  \n",
              "1840           0   0       1   1  \n",
              "1848           0   0       0   0  \n",
              "1869           0   0       1   1  \n",
              "...          ...  ..     ...  ..  \n",
              "3793           0   0       1   0  \n",
              "4396           0   0       1   1  \n",
              "1575           0   0       1   0  \n",
              "3801           0   0       1   0  \n",
              "441            0   0       1   0  \n",
              "\n",
              "[5000 rows x 12 columns]"
            ],
            "text/html": [
              "\n",
              "  <div id=\"df-73785a64-fda3-4e27-a2da-8e9e45e829c6\">\n",
              "    <div class=\"colab-df-container\">\n",
              "      <div>\n",
              "<style scoped>\n",
              "    .dataframe tbody tr th:only-of-type {\n",
              "        vertical-align: middle;\n",
              "    }\n",
              "\n",
              "    .dataframe tbody tr th {\n",
              "        vertical-align: top;\n",
              "    }\n",
              "\n",
              "    .dataframe thead th {\n",
              "        text-align: right;\n",
              "    }\n",
              "</style>\n",
              "<table border=\"1\" class=\"dataframe\">\n",
              "  <thead>\n",
              "    <tr style=\"text-align: right;\">\n",
              "      <th></th>\n",
              "      <th>age</th>\n",
              "      <th>income</th>\n",
              "      <th>zip_code</th>\n",
              "      <th>family</th>\n",
              "      <th>ccavg</th>\n",
              "      <th>edu</th>\n",
              "      <th>mortgage</th>\n",
              "      <th>personal_loan</th>\n",
              "      <th>securities</th>\n",
              "      <th>cd</th>\n",
              "      <th>online</th>\n",
              "      <th>cc</th>\n",
              "    </tr>\n",
              "    <tr>\n",
              "      <th>id</th>\n",
              "      <th></th>\n",
              "      <th></th>\n",
              "      <th></th>\n",
              "      <th></th>\n",
              "      <th></th>\n",
              "      <th></th>\n",
              "      <th></th>\n",
              "      <th></th>\n",
              "      <th></th>\n",
              "      <th></th>\n",
              "      <th></th>\n",
              "      <th></th>\n",
              "    </tr>\n",
              "  </thead>\n",
              "  <tbody>\n",
              "    <tr>\n",
              "      <th>1</th>\n",
              "      <td>25</td>\n",
              "      <td>49</td>\n",
              "      <td>91107</td>\n",
              "      <td>4</td>\n",
              "      <td>1.6</td>\n",
              "      <td>1</td>\n",
              "      <td>0</td>\n",
              "      <td>0</td>\n",
              "      <td>1</td>\n",
              "      <td>0</td>\n",
              "      <td>0</td>\n",
              "      <td>0</td>\n",
              "    </tr>\n",
              "    <tr>\n",
              "      <th>1812</th>\n",
              "      <td>28</td>\n",
              "      <td>11</td>\n",
              "      <td>94534</td>\n",
              "      <td>4</td>\n",
              "      <td>0.5</td>\n",
              "      <td>3</td>\n",
              "      <td>0</td>\n",
              "      <td>0</td>\n",
              "      <td>0</td>\n",
              "      <td>0</td>\n",
              "      <td>0</td>\n",
              "      <td>0</td>\n",
              "    </tr>\n",
              "    <tr>\n",
              "      <th>1840</th>\n",
              "      <td>28</td>\n",
              "      <td>43</td>\n",
              "      <td>95616</td>\n",
              "      <td>4</td>\n",
              "      <td>1.3</td>\n",
              "      <td>3</td>\n",
              "      <td>0</td>\n",
              "      <td>0</td>\n",
              "      <td>0</td>\n",
              "      <td>0</td>\n",
              "      <td>1</td>\n",
              "      <td>1</td>\n",
              "    </tr>\n",
              "    <tr>\n",
              "      <th>1848</th>\n",
              "      <td>25</td>\n",
              "      <td>52</td>\n",
              "      <td>95126</td>\n",
              "      <td>3</td>\n",
              "      <td>2.6</td>\n",
              "      <td>3</td>\n",
              "      <td>159</td>\n",
              "      <td>0</td>\n",
              "      <td>0</td>\n",
              "      <td>0</td>\n",
              "      <td>0</td>\n",
              "      <td>0</td>\n",
              "    </tr>\n",
              "    <tr>\n",
              "      <th>1869</th>\n",
              "      <td>25</td>\n",
              "      <td>118</td>\n",
              "      <td>92833</td>\n",
              "      <td>1</td>\n",
              "      <td>5.4</td>\n",
              "      <td>1</td>\n",
              "      <td>0</td>\n",
              "      <td>0</td>\n",
              "      <td>0</td>\n",
              "      <td>0</td>\n",
              "      <td>1</td>\n",
              "      <td>1</td>\n",
              "    </tr>\n",
              "    <tr>\n",
              "      <th>...</th>\n",
              "      <td>...</td>\n",
              "      <td>...</td>\n",
              "      <td>...</td>\n",
              "      <td>...</td>\n",
              "      <td>...</td>\n",
              "      <td>...</td>\n",
              "      <td>...</td>\n",
              "      <td>...</td>\n",
              "      <td>...</td>\n",
              "      <td>...</td>\n",
              "      <td>...</td>\n",
              "      <td>...</td>\n",
              "    </tr>\n",
              "    <tr>\n",
              "      <th>3793</th>\n",
              "      <td>62</td>\n",
              "      <td>109</td>\n",
              "      <td>92709</td>\n",
              "      <td>4</td>\n",
              "      <td>1.7</td>\n",
              "      <td>3</td>\n",
              "      <td>0</td>\n",
              "      <td>0</td>\n",
              "      <td>0</td>\n",
              "      <td>0</td>\n",
              "      <td>1</td>\n",
              "      <td>0</td>\n",
              "    </tr>\n",
              "    <tr>\n",
              "      <th>4396</th>\n",
              "      <td>66</td>\n",
              "      <td>25</td>\n",
              "      <td>94720</td>\n",
              "      <td>4</td>\n",
              "      <td>0.6</td>\n",
              "      <td>2</td>\n",
              "      <td>0</td>\n",
              "      <td>0</td>\n",
              "      <td>0</td>\n",
              "      <td>0</td>\n",
              "      <td>1</td>\n",
              "      <td>1</td>\n",
              "    </tr>\n",
              "    <tr>\n",
              "      <th>1575</th>\n",
              "      <td>62</td>\n",
              "      <td>42</td>\n",
              "      <td>92106</td>\n",
              "      <td>3</td>\n",
              "      <td>1.5</td>\n",
              "      <td>1</td>\n",
              "      <td>0</td>\n",
              "      <td>0</td>\n",
              "      <td>0</td>\n",
              "      <td>0</td>\n",
              "      <td>1</td>\n",
              "      <td>0</td>\n",
              "    </tr>\n",
              "    <tr>\n",
              "      <th>3801</th>\n",
              "      <td>64</td>\n",
              "      <td>35</td>\n",
              "      <td>93955</td>\n",
              "      <td>1</td>\n",
              "      <td>0.5</td>\n",
              "      <td>3</td>\n",
              "      <td>0</td>\n",
              "      <td>0</td>\n",
              "      <td>0</td>\n",
              "      <td>0</td>\n",
              "      <td>1</td>\n",
              "      <td>0</td>\n",
              "    </tr>\n",
              "    <tr>\n",
              "      <th>441</th>\n",
              "      <td>64</td>\n",
              "      <td>59</td>\n",
              "      <td>92626</td>\n",
              "      <td>2</td>\n",
              "      <td>1.5</td>\n",
              "      <td>1</td>\n",
              "      <td>139</td>\n",
              "      <td>0</td>\n",
              "      <td>0</td>\n",
              "      <td>0</td>\n",
              "      <td>1</td>\n",
              "      <td>0</td>\n",
              "    </tr>\n",
              "  </tbody>\n",
              "</table>\n",
              "<p>5000 rows × 12 columns</p>\n",
              "</div>\n",
              "      <button class=\"colab-df-convert\" onclick=\"convertToInteractive('df-73785a64-fda3-4e27-a2da-8e9e45e829c6')\"\n",
              "              title=\"Convert this dataframe to an interactive table.\"\n",
              "              style=\"display:none;\">\n",
              "        \n",
              "  <svg xmlns=\"http://www.w3.org/2000/svg\" height=\"24px\"viewBox=\"0 0 24 24\"\n",
              "       width=\"24px\">\n",
              "    <path d=\"M0 0h24v24H0V0z\" fill=\"none\"/>\n",
              "    <path d=\"M18.56 5.44l.94 2.06.94-2.06 2.06-.94-2.06-.94-.94-2.06-.94 2.06-2.06.94zm-11 1L8.5 8.5l.94-2.06 2.06-.94-2.06-.94L8.5 2.5l-.94 2.06-2.06.94zm10 10l.94 2.06.94-2.06 2.06-.94-2.06-.94-.94-2.06-.94 2.06-2.06.94z\"/><path d=\"M17.41 7.96l-1.37-1.37c-.4-.4-.92-.59-1.43-.59-.52 0-1.04.2-1.43.59L10.3 9.45l-7.72 7.72c-.78.78-.78 2.05 0 2.83L4 21.41c.39.39.9.59 1.41.59.51 0 1.02-.2 1.41-.59l7.78-7.78 2.81-2.81c.8-.78.8-2.07 0-2.86zM5.41 20L4 18.59l7.72-7.72 1.47 1.35L5.41 20z\"/>\n",
              "  </svg>\n",
              "      </button>\n",
              "      \n",
              "  <style>\n",
              "    .colab-df-container {\n",
              "      display:flex;\n",
              "      flex-wrap:wrap;\n",
              "      gap: 12px;\n",
              "    }\n",
              "\n",
              "    .colab-df-convert {\n",
              "      background-color: #E8F0FE;\n",
              "      border: none;\n",
              "      border-radius: 50%;\n",
              "      cursor: pointer;\n",
              "      display: none;\n",
              "      fill: #1967D2;\n",
              "      height: 32px;\n",
              "      padding: 0 0 0 0;\n",
              "      width: 32px;\n",
              "    }\n",
              "\n",
              "    .colab-df-convert:hover {\n",
              "      background-color: #E2EBFA;\n",
              "      box-shadow: 0px 1px 2px rgba(60, 64, 67, 0.3), 0px 1px 3px 1px rgba(60, 64, 67, 0.15);\n",
              "      fill: #174EA6;\n",
              "    }\n",
              "\n",
              "    [theme=dark] .colab-df-convert {\n",
              "      background-color: #3B4455;\n",
              "      fill: #D2E3FC;\n",
              "    }\n",
              "\n",
              "    [theme=dark] .colab-df-convert:hover {\n",
              "      background-color: #434B5C;\n",
              "      box-shadow: 0px 1px 3px 1px rgba(0, 0, 0, 0.15);\n",
              "      filter: drop-shadow(0px 1px 2px rgba(0, 0, 0, 0.3));\n",
              "      fill: #FFFFFF;\n",
              "    }\n",
              "  </style>\n",
              "\n",
              "      <script>\n",
              "        const buttonEl =\n",
              "          document.querySelector('#df-73785a64-fda3-4e27-a2da-8e9e45e829c6 button.colab-df-convert');\n",
              "        buttonEl.style.display =\n",
              "          google.colab.kernel.accessAllowed ? 'block' : 'none';\n",
              "\n",
              "        async function convertToInteractive(key) {\n",
              "          const element = document.querySelector('#df-73785a64-fda3-4e27-a2da-8e9e45e829c6');\n",
              "          const dataTable =\n",
              "            await google.colab.kernel.invokeFunction('convertToInteractive',\n",
              "                                                     [key], {});\n",
              "          if (!dataTable) return;\n",
              "\n",
              "          const docLinkHtml = 'Like what you see? Visit the ' +\n",
              "            '<a target=\"_blank\" href=https://colab.research.google.com/notebooks/data_table.ipynb>data table notebook</a>'\n",
              "            + ' to learn more about interactive tables.';\n",
              "          element.innerHTML = '';\n",
              "          dataTable['output_type'] = 'display_data';\n",
              "          await google.colab.output.renderOutput(dataTable, element);\n",
              "          const docLink = document.createElement('div');\n",
              "          docLink.innerHTML = docLinkHtml;\n",
              "          element.appendChild(docLink);\n",
              "        }\n",
              "      </script>\n",
              "    </div>\n",
              "  </div>\n",
              "  "
            ]
          },
          "metadata": {},
          "execution_count": 10
        }
      ]
    },
    {
      "cell_type": "code",
      "source": [
        "#X_pisah = bank.drop(['personal_loan', 'exp', 'mortgage', 'securities', 'cd', 'online', 'cc', \"agegroup\"], axis=1) #dropbinary\n",
        "#X_scale = bank.drop(['id', 'personal_loan', 'exp', 'age',  'income', 'zip_code', 'family', 'ccavg', 'mortgage','edu', \"agegroup\"], axis=1) #dropnonbinary\n",
        "\n",
        "X_scale = X[['age',  'income', 'zip_code', 'family', 'ccavg', 'mortgage','edu']]"
      ],
      "metadata": {
        "id": "LGlbhqBbik6d"
      },
      "execution_count": null,
      "outputs": []
    },
    {
      "cell_type": "code",
      "source": [
        "X_scale.head(3)"
      ],
      "metadata": {
        "colab": {
          "base_uri": "https://localhost:8080/",
          "height": 175
        },
        "id": "3J2eypA7xC9Z",
        "outputId": "35243ab0-822a-4eb1-f6fb-ae3e3bd476ab"
      },
      "execution_count": null,
      "outputs": [
        {
          "output_type": "execute_result",
          "data": {
            "text/plain": [
              "      age  income  zip_code  family  ccavg  mortgage  edu\n",
              "id                                                       \n",
              "1      25      49     91107       4    1.6         0    1\n",
              "1812   28      11     94534       4    0.5         0    3\n",
              "1840   28      43     95616       4    1.3         0    3"
            ],
            "text/html": [
              "\n",
              "  <div id=\"df-cf028a19-877d-4306-9977-2eed6e410dc9\">\n",
              "    <div class=\"colab-df-container\">\n",
              "      <div>\n",
              "<style scoped>\n",
              "    .dataframe tbody tr th:only-of-type {\n",
              "        vertical-align: middle;\n",
              "    }\n",
              "\n",
              "    .dataframe tbody tr th {\n",
              "        vertical-align: top;\n",
              "    }\n",
              "\n",
              "    .dataframe thead th {\n",
              "        text-align: right;\n",
              "    }\n",
              "</style>\n",
              "<table border=\"1\" class=\"dataframe\">\n",
              "  <thead>\n",
              "    <tr style=\"text-align: right;\">\n",
              "      <th></th>\n",
              "      <th>age</th>\n",
              "      <th>income</th>\n",
              "      <th>zip_code</th>\n",
              "      <th>family</th>\n",
              "      <th>ccavg</th>\n",
              "      <th>mortgage</th>\n",
              "      <th>edu</th>\n",
              "    </tr>\n",
              "    <tr>\n",
              "      <th>id</th>\n",
              "      <th></th>\n",
              "      <th></th>\n",
              "      <th></th>\n",
              "      <th></th>\n",
              "      <th></th>\n",
              "      <th></th>\n",
              "      <th></th>\n",
              "    </tr>\n",
              "  </thead>\n",
              "  <tbody>\n",
              "    <tr>\n",
              "      <th>1</th>\n",
              "      <td>25</td>\n",
              "      <td>49</td>\n",
              "      <td>91107</td>\n",
              "      <td>4</td>\n",
              "      <td>1.6</td>\n",
              "      <td>0</td>\n",
              "      <td>1</td>\n",
              "    </tr>\n",
              "    <tr>\n",
              "      <th>1812</th>\n",
              "      <td>28</td>\n",
              "      <td>11</td>\n",
              "      <td>94534</td>\n",
              "      <td>4</td>\n",
              "      <td>0.5</td>\n",
              "      <td>0</td>\n",
              "      <td>3</td>\n",
              "    </tr>\n",
              "    <tr>\n",
              "      <th>1840</th>\n",
              "      <td>28</td>\n",
              "      <td>43</td>\n",
              "      <td>95616</td>\n",
              "      <td>4</td>\n",
              "      <td>1.3</td>\n",
              "      <td>0</td>\n",
              "      <td>3</td>\n",
              "    </tr>\n",
              "  </tbody>\n",
              "</table>\n",
              "</div>\n",
              "      <button class=\"colab-df-convert\" onclick=\"convertToInteractive('df-cf028a19-877d-4306-9977-2eed6e410dc9')\"\n",
              "              title=\"Convert this dataframe to an interactive table.\"\n",
              "              style=\"display:none;\">\n",
              "        \n",
              "  <svg xmlns=\"http://www.w3.org/2000/svg\" height=\"24px\"viewBox=\"0 0 24 24\"\n",
              "       width=\"24px\">\n",
              "    <path d=\"M0 0h24v24H0V0z\" fill=\"none\"/>\n",
              "    <path d=\"M18.56 5.44l.94 2.06.94-2.06 2.06-.94-2.06-.94-.94-2.06-.94 2.06-2.06.94zm-11 1L8.5 8.5l.94-2.06 2.06-.94-2.06-.94L8.5 2.5l-.94 2.06-2.06.94zm10 10l.94 2.06.94-2.06 2.06-.94-2.06-.94-.94-2.06-.94 2.06-2.06.94z\"/><path d=\"M17.41 7.96l-1.37-1.37c-.4-.4-.92-.59-1.43-.59-.52 0-1.04.2-1.43.59L10.3 9.45l-7.72 7.72c-.78.78-.78 2.05 0 2.83L4 21.41c.39.39.9.59 1.41.59.51 0 1.02-.2 1.41-.59l7.78-7.78 2.81-2.81c.8-.78.8-2.07 0-2.86zM5.41 20L4 18.59l7.72-7.72 1.47 1.35L5.41 20z\"/>\n",
              "  </svg>\n",
              "      </button>\n",
              "      \n",
              "  <style>\n",
              "    .colab-df-container {\n",
              "      display:flex;\n",
              "      flex-wrap:wrap;\n",
              "      gap: 12px;\n",
              "    }\n",
              "\n",
              "    .colab-df-convert {\n",
              "      background-color: #E8F0FE;\n",
              "      border: none;\n",
              "      border-radius: 50%;\n",
              "      cursor: pointer;\n",
              "      display: none;\n",
              "      fill: #1967D2;\n",
              "      height: 32px;\n",
              "      padding: 0 0 0 0;\n",
              "      width: 32px;\n",
              "    }\n",
              "\n",
              "    .colab-df-convert:hover {\n",
              "      background-color: #E2EBFA;\n",
              "      box-shadow: 0px 1px 2px rgba(60, 64, 67, 0.3), 0px 1px 3px 1px rgba(60, 64, 67, 0.15);\n",
              "      fill: #174EA6;\n",
              "    }\n",
              "\n",
              "    [theme=dark] .colab-df-convert {\n",
              "      background-color: #3B4455;\n",
              "      fill: #D2E3FC;\n",
              "    }\n",
              "\n",
              "    [theme=dark] .colab-df-convert:hover {\n",
              "      background-color: #434B5C;\n",
              "      box-shadow: 0px 1px 3px 1px rgba(0, 0, 0, 0.15);\n",
              "      filter: drop-shadow(0px 1px 2px rgba(0, 0, 0, 0.3));\n",
              "      fill: #FFFFFF;\n",
              "    }\n",
              "  </style>\n",
              "\n",
              "      <script>\n",
              "        const buttonEl =\n",
              "          document.querySelector('#df-cf028a19-877d-4306-9977-2eed6e410dc9 button.colab-df-convert');\n",
              "        buttonEl.style.display =\n",
              "          google.colab.kernel.accessAllowed ? 'block' : 'none';\n",
              "\n",
              "        async function convertToInteractive(key) {\n",
              "          const element = document.querySelector('#df-cf028a19-877d-4306-9977-2eed6e410dc9');\n",
              "          const dataTable =\n",
              "            await google.colab.kernel.invokeFunction('convertToInteractive',\n",
              "                                                     [key], {});\n",
              "          if (!dataTable) return;\n",
              "\n",
              "          const docLinkHtml = 'Like what you see? Visit the ' +\n",
              "            '<a target=\"_blank\" href=https://colab.research.google.com/notebooks/data_table.ipynb>data table notebook</a>'\n",
              "            + ' to learn more about interactive tables.';\n",
              "          element.innerHTML = '';\n",
              "          dataTable['output_type'] = 'display_data';\n",
              "          await google.colab.output.renderOutput(dataTable, element);\n",
              "          const docLink = document.createElement('div');\n",
              "          docLink.innerHTML = docLinkHtml;\n",
              "          element.appendChild(docLink);\n",
              "        }\n",
              "      </script>\n",
              "    </div>\n",
              "  </div>\n",
              "  "
            ]
          },
          "metadata": {},
          "execution_count": 14
        }
      ]
    },
    {
      "cell_type": "code",
      "source": [
        "sc = StandardScaler()\n",
        "\n",
        "X_scaled = sc.fit_transform(X_scale)"
      ],
      "metadata": {
        "id": "BzlKXgOP_ucy"
      },
      "execution_count": null,
      "outputs": []
    },
    {
      "cell_type": "code",
      "source": [
        "X_scaled_df = pd.DataFrame(X_scaled, index=X_scale.index, columns=X_scale.columns)\n",
        "X_scaled_df.head(3)"
      ],
      "metadata": {
        "colab": {
          "base_uri": "https://localhost:8080/",
          "height": 175
        },
        "id": "hVGpXSEHABf6",
        "outputId": "1c3455bc-d04f-4b89-dfa5-bb121b32afb0"
      },
      "execution_count": null,
      "outputs": [
        {
          "output_type": "execute_result",
          "data": {
            "text/plain": [
              "           age    income  zip_code    family     ccavg  mortgage       edu\n",
              "id                                                                        \n",
              "1    -1.774417 -0.538229 -0.964114  1.397414 -0.193385 -0.555524 -1.049078\n",
              "1812 -1.512683 -1.363793  0.651146  1.397414 -0.822862 -0.555524  1.332484\n",
              "1840 -1.512683 -0.668581  1.161129  1.397414 -0.365061 -0.555524  1.332484"
            ],
            "text/html": [
              "\n",
              "  <div id=\"df-79dd4c2a-0285-466d-9b68-b02a22af57f5\">\n",
              "    <div class=\"colab-df-container\">\n",
              "      <div>\n",
              "<style scoped>\n",
              "    .dataframe tbody tr th:only-of-type {\n",
              "        vertical-align: middle;\n",
              "    }\n",
              "\n",
              "    .dataframe tbody tr th {\n",
              "        vertical-align: top;\n",
              "    }\n",
              "\n",
              "    .dataframe thead th {\n",
              "        text-align: right;\n",
              "    }\n",
              "</style>\n",
              "<table border=\"1\" class=\"dataframe\">\n",
              "  <thead>\n",
              "    <tr style=\"text-align: right;\">\n",
              "      <th></th>\n",
              "      <th>age</th>\n",
              "      <th>income</th>\n",
              "      <th>zip_code</th>\n",
              "      <th>family</th>\n",
              "      <th>ccavg</th>\n",
              "      <th>mortgage</th>\n",
              "      <th>edu</th>\n",
              "    </tr>\n",
              "    <tr>\n",
              "      <th>id</th>\n",
              "      <th></th>\n",
              "      <th></th>\n",
              "      <th></th>\n",
              "      <th></th>\n",
              "      <th></th>\n",
              "      <th></th>\n",
              "      <th></th>\n",
              "    </tr>\n",
              "  </thead>\n",
              "  <tbody>\n",
              "    <tr>\n",
              "      <th>1</th>\n",
              "      <td>-1.774417</td>\n",
              "      <td>-0.538229</td>\n",
              "      <td>-0.964114</td>\n",
              "      <td>1.397414</td>\n",
              "      <td>-0.193385</td>\n",
              "      <td>-0.555524</td>\n",
              "      <td>-1.049078</td>\n",
              "    </tr>\n",
              "    <tr>\n",
              "      <th>1812</th>\n",
              "      <td>-1.512683</td>\n",
              "      <td>-1.363793</td>\n",
              "      <td>0.651146</td>\n",
              "      <td>1.397414</td>\n",
              "      <td>-0.822862</td>\n",
              "      <td>-0.555524</td>\n",
              "      <td>1.332484</td>\n",
              "    </tr>\n",
              "    <tr>\n",
              "      <th>1840</th>\n",
              "      <td>-1.512683</td>\n",
              "      <td>-0.668581</td>\n",
              "      <td>1.161129</td>\n",
              "      <td>1.397414</td>\n",
              "      <td>-0.365061</td>\n",
              "      <td>-0.555524</td>\n",
              "      <td>1.332484</td>\n",
              "    </tr>\n",
              "  </tbody>\n",
              "</table>\n",
              "</div>\n",
              "      <button class=\"colab-df-convert\" onclick=\"convertToInteractive('df-79dd4c2a-0285-466d-9b68-b02a22af57f5')\"\n",
              "              title=\"Convert this dataframe to an interactive table.\"\n",
              "              style=\"display:none;\">\n",
              "        \n",
              "  <svg xmlns=\"http://www.w3.org/2000/svg\" height=\"24px\"viewBox=\"0 0 24 24\"\n",
              "       width=\"24px\">\n",
              "    <path d=\"M0 0h24v24H0V0z\" fill=\"none\"/>\n",
              "    <path d=\"M18.56 5.44l.94 2.06.94-2.06 2.06-.94-2.06-.94-.94-2.06-.94 2.06-2.06.94zm-11 1L8.5 8.5l.94-2.06 2.06-.94-2.06-.94L8.5 2.5l-.94 2.06-2.06.94zm10 10l.94 2.06.94-2.06 2.06-.94-2.06-.94-.94-2.06-.94 2.06-2.06.94z\"/><path d=\"M17.41 7.96l-1.37-1.37c-.4-.4-.92-.59-1.43-.59-.52 0-1.04.2-1.43.59L10.3 9.45l-7.72 7.72c-.78.78-.78 2.05 0 2.83L4 21.41c.39.39.9.59 1.41.59.51 0 1.02-.2 1.41-.59l7.78-7.78 2.81-2.81c.8-.78.8-2.07 0-2.86zM5.41 20L4 18.59l7.72-7.72 1.47 1.35L5.41 20z\"/>\n",
              "  </svg>\n",
              "      </button>\n",
              "      \n",
              "  <style>\n",
              "    .colab-df-container {\n",
              "      display:flex;\n",
              "      flex-wrap:wrap;\n",
              "      gap: 12px;\n",
              "    }\n",
              "\n",
              "    .colab-df-convert {\n",
              "      background-color: #E8F0FE;\n",
              "      border: none;\n",
              "      border-radius: 50%;\n",
              "      cursor: pointer;\n",
              "      display: none;\n",
              "      fill: #1967D2;\n",
              "      height: 32px;\n",
              "      padding: 0 0 0 0;\n",
              "      width: 32px;\n",
              "    }\n",
              "\n",
              "    .colab-df-convert:hover {\n",
              "      background-color: #E2EBFA;\n",
              "      box-shadow: 0px 1px 2px rgba(60, 64, 67, 0.3), 0px 1px 3px 1px rgba(60, 64, 67, 0.15);\n",
              "      fill: #174EA6;\n",
              "    }\n",
              "\n",
              "    [theme=dark] .colab-df-convert {\n",
              "      background-color: #3B4455;\n",
              "      fill: #D2E3FC;\n",
              "    }\n",
              "\n",
              "    [theme=dark] .colab-df-convert:hover {\n",
              "      background-color: #434B5C;\n",
              "      box-shadow: 0px 1px 3px 1px rgba(0, 0, 0, 0.15);\n",
              "      filter: drop-shadow(0px 1px 2px rgba(0, 0, 0, 0.3));\n",
              "      fill: #FFFFFF;\n",
              "    }\n",
              "  </style>\n",
              "\n",
              "      <script>\n",
              "        const buttonEl =\n",
              "          document.querySelector('#df-79dd4c2a-0285-466d-9b68-b02a22af57f5 button.colab-df-convert');\n",
              "        buttonEl.style.display =\n",
              "          google.colab.kernel.accessAllowed ? 'block' : 'none';\n",
              "\n",
              "        async function convertToInteractive(key) {\n",
              "          const element = document.querySelector('#df-79dd4c2a-0285-466d-9b68-b02a22af57f5');\n",
              "          const dataTable =\n",
              "            await google.colab.kernel.invokeFunction('convertToInteractive',\n",
              "                                                     [key], {});\n",
              "          if (!dataTable) return;\n",
              "\n",
              "          const docLinkHtml = 'Like what you see? Visit the ' +\n",
              "            '<a target=\"_blank\" href=https://colab.research.google.com/notebooks/data_table.ipynb>data table notebook</a>'\n",
              "            + ' to learn more about interactive tables.';\n",
              "          element.innerHTML = '';\n",
              "          dataTable['output_type'] = 'display_data';\n",
              "          await google.colab.output.renderOutput(dataTable, element);\n",
              "          const docLink = document.createElement('div');\n",
              "          docLink.innerHTML = docLinkHtml;\n",
              "          element.appendChild(docLink);\n",
              "        }\n",
              "      </script>\n",
              "    </div>\n",
              "  </div>\n",
              "  "
            ]
          },
          "metadata": {},
          "execution_count": 13
        }
      ]
    },
    {
      "cell_type": "code",
      "source": [
        "Xs = X.copy()"
      ],
      "metadata": {
        "id": "0l83umepuJXg"
      },
      "execution_count": null,
      "outputs": []
    },
    {
      "cell_type": "code",
      "source": [
        "Xs[['age',  'income', 'zip_code', 'family', 'ccavg', 'mortgage','edu']] = X_scaled_df[['age',  'income', 'zip_code', 'family', 'ccavg', 'mortgage','edu']]"
      ],
      "metadata": {
        "id": "5sQlvMGLAerb"
      },
      "execution_count": null,
      "outputs": []
    },
    {
      "cell_type": "code",
      "source": [
        "Xs.head(3)"
      ],
      "metadata": {
        "colab": {
          "base_uri": "https://localhost:8080/",
          "height": 175
        },
        "id": "acq9um1nAmW7",
        "outputId": "acdda5ee-867c-4335-8586-fc49eb51bc40"
      },
      "execution_count": null,
      "outputs": [
        {
          "output_type": "execute_result",
          "data": {
            "text/plain": [
              "           age    income  zip_code    family     ccavg       edu  mortgage  \\\n",
              "id                                                                           \n",
              "1    -1.774417 -0.538229 -0.964114  1.397414 -0.193385 -1.049078 -0.555524   \n",
              "1812 -1.512683 -1.363793  0.651146  1.397414 -0.822862  1.332484 -0.555524   \n",
              "1840 -1.512683 -0.668581  1.161129  1.397414 -0.365061  1.332484 -0.555524   \n",
              "\n",
              "      personal_loan  securities  cd  online  cc  \n",
              "id                                               \n",
              "1                 0           1   0       0   0  \n",
              "1812              0           0   0       0   0  \n",
              "1840              0           0   0       1   1  "
            ],
            "text/html": [
              "\n",
              "  <div id=\"df-020c38d1-5255-4fb5-a900-56e16f8c905e\">\n",
              "    <div class=\"colab-df-container\">\n",
              "      <div>\n",
              "<style scoped>\n",
              "    .dataframe tbody tr th:only-of-type {\n",
              "        vertical-align: middle;\n",
              "    }\n",
              "\n",
              "    .dataframe tbody tr th {\n",
              "        vertical-align: top;\n",
              "    }\n",
              "\n",
              "    .dataframe thead th {\n",
              "        text-align: right;\n",
              "    }\n",
              "</style>\n",
              "<table border=\"1\" class=\"dataframe\">\n",
              "  <thead>\n",
              "    <tr style=\"text-align: right;\">\n",
              "      <th></th>\n",
              "      <th>age</th>\n",
              "      <th>income</th>\n",
              "      <th>zip_code</th>\n",
              "      <th>family</th>\n",
              "      <th>ccavg</th>\n",
              "      <th>edu</th>\n",
              "      <th>mortgage</th>\n",
              "      <th>personal_loan</th>\n",
              "      <th>securities</th>\n",
              "      <th>cd</th>\n",
              "      <th>online</th>\n",
              "      <th>cc</th>\n",
              "    </tr>\n",
              "    <tr>\n",
              "      <th>id</th>\n",
              "      <th></th>\n",
              "      <th></th>\n",
              "      <th></th>\n",
              "      <th></th>\n",
              "      <th></th>\n",
              "      <th></th>\n",
              "      <th></th>\n",
              "      <th></th>\n",
              "      <th></th>\n",
              "      <th></th>\n",
              "      <th></th>\n",
              "      <th></th>\n",
              "    </tr>\n",
              "  </thead>\n",
              "  <tbody>\n",
              "    <tr>\n",
              "      <th>1</th>\n",
              "      <td>-1.774417</td>\n",
              "      <td>-0.538229</td>\n",
              "      <td>-0.964114</td>\n",
              "      <td>1.397414</td>\n",
              "      <td>-0.193385</td>\n",
              "      <td>-1.049078</td>\n",
              "      <td>-0.555524</td>\n",
              "      <td>0</td>\n",
              "      <td>1</td>\n",
              "      <td>0</td>\n",
              "      <td>0</td>\n",
              "      <td>0</td>\n",
              "    </tr>\n",
              "    <tr>\n",
              "      <th>1812</th>\n",
              "      <td>-1.512683</td>\n",
              "      <td>-1.363793</td>\n",
              "      <td>0.651146</td>\n",
              "      <td>1.397414</td>\n",
              "      <td>-0.822862</td>\n",
              "      <td>1.332484</td>\n",
              "      <td>-0.555524</td>\n",
              "      <td>0</td>\n",
              "      <td>0</td>\n",
              "      <td>0</td>\n",
              "      <td>0</td>\n",
              "      <td>0</td>\n",
              "    </tr>\n",
              "    <tr>\n",
              "      <th>1840</th>\n",
              "      <td>-1.512683</td>\n",
              "      <td>-0.668581</td>\n",
              "      <td>1.161129</td>\n",
              "      <td>1.397414</td>\n",
              "      <td>-0.365061</td>\n",
              "      <td>1.332484</td>\n",
              "      <td>-0.555524</td>\n",
              "      <td>0</td>\n",
              "      <td>0</td>\n",
              "      <td>0</td>\n",
              "      <td>1</td>\n",
              "      <td>1</td>\n",
              "    </tr>\n",
              "  </tbody>\n",
              "</table>\n",
              "</div>\n",
              "      <button class=\"colab-df-convert\" onclick=\"convertToInteractive('df-020c38d1-5255-4fb5-a900-56e16f8c905e')\"\n",
              "              title=\"Convert this dataframe to an interactive table.\"\n",
              "              style=\"display:none;\">\n",
              "        \n",
              "  <svg xmlns=\"http://www.w3.org/2000/svg\" height=\"24px\"viewBox=\"0 0 24 24\"\n",
              "       width=\"24px\">\n",
              "    <path d=\"M0 0h24v24H0V0z\" fill=\"none\"/>\n",
              "    <path d=\"M18.56 5.44l.94 2.06.94-2.06 2.06-.94-2.06-.94-.94-2.06-.94 2.06-2.06.94zm-11 1L8.5 8.5l.94-2.06 2.06-.94-2.06-.94L8.5 2.5l-.94 2.06-2.06.94zm10 10l.94 2.06.94-2.06 2.06-.94-2.06-.94-.94-2.06-.94 2.06-2.06.94z\"/><path d=\"M17.41 7.96l-1.37-1.37c-.4-.4-.92-.59-1.43-.59-.52 0-1.04.2-1.43.59L10.3 9.45l-7.72 7.72c-.78.78-.78 2.05 0 2.83L4 21.41c.39.39.9.59 1.41.59.51 0 1.02-.2 1.41-.59l7.78-7.78 2.81-2.81c.8-.78.8-2.07 0-2.86zM5.41 20L4 18.59l7.72-7.72 1.47 1.35L5.41 20z\"/>\n",
              "  </svg>\n",
              "      </button>\n",
              "      \n",
              "  <style>\n",
              "    .colab-df-container {\n",
              "      display:flex;\n",
              "      flex-wrap:wrap;\n",
              "      gap: 12px;\n",
              "    }\n",
              "\n",
              "    .colab-df-convert {\n",
              "      background-color: #E8F0FE;\n",
              "      border: none;\n",
              "      border-radius: 50%;\n",
              "      cursor: pointer;\n",
              "      display: none;\n",
              "      fill: #1967D2;\n",
              "      height: 32px;\n",
              "      padding: 0 0 0 0;\n",
              "      width: 32px;\n",
              "    }\n",
              "\n",
              "    .colab-df-convert:hover {\n",
              "      background-color: #E2EBFA;\n",
              "      box-shadow: 0px 1px 2px rgba(60, 64, 67, 0.3), 0px 1px 3px 1px rgba(60, 64, 67, 0.15);\n",
              "      fill: #174EA6;\n",
              "    }\n",
              "\n",
              "    [theme=dark] .colab-df-convert {\n",
              "      background-color: #3B4455;\n",
              "      fill: #D2E3FC;\n",
              "    }\n",
              "\n",
              "    [theme=dark] .colab-df-convert:hover {\n",
              "      background-color: #434B5C;\n",
              "      box-shadow: 0px 1px 3px 1px rgba(0, 0, 0, 0.15);\n",
              "      filter: drop-shadow(0px 1px 2px rgba(0, 0, 0, 0.3));\n",
              "      fill: #FFFFFF;\n",
              "    }\n",
              "  </style>\n",
              "\n",
              "      <script>\n",
              "        const buttonEl =\n",
              "          document.querySelector('#df-020c38d1-5255-4fb5-a900-56e16f8c905e button.colab-df-convert');\n",
              "        buttonEl.style.display =\n",
              "          google.colab.kernel.accessAllowed ? 'block' : 'none';\n",
              "\n",
              "        async function convertToInteractive(key) {\n",
              "          const element = document.querySelector('#df-020c38d1-5255-4fb5-a900-56e16f8c905e');\n",
              "          const dataTable =\n",
              "            await google.colab.kernel.invokeFunction('convertToInteractive',\n",
              "                                                     [key], {});\n",
              "          if (!dataTable) return;\n",
              "\n",
              "          const docLinkHtml = 'Like what you see? Visit the ' +\n",
              "            '<a target=\"_blank\" href=https://colab.research.google.com/notebooks/data_table.ipynb>data table notebook</a>'\n",
              "            + ' to learn more about interactive tables.';\n",
              "          element.innerHTML = '';\n",
              "          dataTable['output_type'] = 'display_data';\n",
              "          await google.colab.output.renderOutput(dataTable, element);\n",
              "          const docLink = document.createElement('div');\n",
              "          docLink.innerHTML = docLinkHtml;\n",
              "          element.appendChild(docLink);\n",
              "        }\n",
              "      </script>\n",
              "    </div>\n",
              "  </div>\n",
              "  "
            ]
          },
          "metadata": {},
          "execution_count": 17
        }
      ]
    },
    {
      "cell_type": "markdown",
      "source": [
        "###Train Test Split"
      ],
      "metadata": {
        "id": "mFiZCbjG-vNi"
      }
    },
    {
      "cell_type": "code",
      "source": [
        "#do train test split for features and labels\n",
        "#X_train, X_test, y_train, y_test = train_test_split(X, y, test_size=0.20, random_state=101)\n",
        "\n",
        "X_train, y_train, X_valid, y_valid, X_test, y_test = train_valid_test_split(Xs, target = 'personal_loan', \n",
        "                                                                            train_size=0.8, valid_size=0.1, test_size=0.1, random_state = 1)"
      ],
      "metadata": {
        "id": "b2TTs4KS2eiR"
      },
      "execution_count": null,
      "outputs": []
    },
    {
      "cell_type": "code",
      "source": [
        "# checking training sample numbers for Label ( attrition flag)\n",
        "\n",
        "print(Counter(y_train))"
      ],
      "metadata": {
        "id": "IlZONAX_2gW1",
        "colab": {
          "base_uri": "https://localhost:8080/"
        },
        "outputId": "9beef372-8a80-4e75-ec4e-21468cf13c6f"
      },
      "execution_count": null,
      "outputs": [
        {
          "output_type": "stream",
          "name": "stdout",
          "text": [
            "Counter({0: 3618, 1: 382})\n"
          ]
        }
      ]
    },
    {
      "cell_type": "markdown",
      "source": [
        "###SMOTE To Overcome Imbalance Data"
      ],
      "metadata": {
        "id": "E76SF5WUCHRg"
      }
    },
    {
      "cell_type": "code",
      "source": [
        "# perform Standard Scaling and SMOTE to handle imbalance between data \n",
        "\n",
        "oversample = SMOTE(random_state = 1)\n",
        "X_train, y_train = oversample.fit_resample(X_train,y_train)"
      ],
      "metadata": {
        "id": "aYC6D5-i2h14"
      },
      "execution_count": null,
      "outputs": []
    },
    {
      "cell_type": "code",
      "source": [
        "# checking training sample numbers for Label ( attrition flag) after SMOTE ( they are equal )\n",
        "\n",
        "\n",
        "from collections import Counter\n",
        "print(Counter(y_train))"
      ],
      "metadata": {
        "id": "sdE_oLX42jlT",
        "colab": {
          "base_uri": "https://localhost:8080/"
        },
        "outputId": "d2fad3d6-c12d-4ff9-9fe3-3cf931e8f85f"
      },
      "execution_count": null,
      "outputs": [
        {
          "output_type": "stream",
          "name": "stdout",
          "text": [
            "Counter({0: 3618, 1: 3618})\n"
          ]
        }
      ]
    },
    {
      "cell_type": "markdown",
      "source": [
        "# Random Forest Class"
      ],
      "metadata": {
        "id": "-I8ChhmVXl6Z"
      }
    },
    {
      "cell_type": "code",
      "source": [
        "rf_model = RandomForestClassifier(random_state = 42)\n",
        "rf_model.fit(X_train,y_train)\n",
        "\n",
        "\n",
        "#model.feature_importances_"
      ],
      "metadata": {
        "id": "s41pEl232n_4",
        "colab": {
          "base_uri": "https://localhost:8080/"
        },
        "outputId": "10df7f6a-caa0-44ca-a9ba-18a9d8330f56"
      },
      "execution_count": null,
      "outputs": [
        {
          "output_type": "execute_result",
          "data": {
            "text/plain": [
              "RandomForestClassifier(random_state=42)"
            ]
          },
          "metadata": {},
          "execution_count": 44
        }
      ]
    },
    {
      "cell_type": "code",
      "source": [
        "rf_pred = rf_model.predict(X_test)"
      ],
      "metadata": {
        "id": "-xirJjss2ptX"
      },
      "execution_count": null,
      "outputs": []
    },
    {
      "cell_type": "code",
      "source": [
        "confusion_matrix(y_test,rf_pred)\n",
        "print(classification_report(y_test,rf_pred))"
      ],
      "metadata": {
        "colab": {
          "base_uri": "https://localhost:8080/"
        },
        "id": "HPsaZWAMUKoU",
        "outputId": "303230d9-89cd-4907-9c60-bc49f271b5c9"
      },
      "execution_count": null,
      "outputs": [
        {
          "output_type": "stream",
          "name": "stdout",
          "text": [
            "              precision    recall  f1-score   support\n",
            "\n",
            "           0       0.98      0.99      0.99       452\n",
            "           1       0.87      0.85      0.86        48\n",
            "\n",
            "    accuracy                           0.97       500\n",
            "   macro avg       0.93      0.92      0.92       500\n",
            "weighted avg       0.97      0.97      0.97       500\n",
            "\n"
          ]
        }
      ]
    },
    {
      "cell_type": "code",
      "source": [
        "print(roc_auc_score(y_test, rf_pred))"
      ],
      "metadata": {
        "id": "u6a6DtzU2uys",
        "colab": {
          "base_uri": "https://localhost:8080/"
        },
        "outputId": "edbdee76-e163-41e1-89f4-f2a06bfe831b"
      },
      "execution_count": null,
      "outputs": [
        {
          "output_type": "stream",
          "name": "stdout",
          "text": [
            "0.9204461651917403\n"
          ]
        }
      ]
    },
    {
      "cell_type": "markdown",
      "source": [
        "**MAE**"
      ],
      "metadata": {
        "id": "bwpo0pUIfiud"
      }
    },
    {
      "cell_type": "code",
      "source": [
        "rf_error = mae(y_test, rf_pred)\n",
        "rf_error"
      ],
      "metadata": {
        "colab": {
          "base_uri": "https://localhost:8080/"
        },
        "id": "YCG4rkqcepfC",
        "outputId": "f1688674-7219-4576-e11e-3fc34fcdc344"
      },
      "execution_count": null,
      "outputs": [
        {
          "output_type": "execute_result",
          "data": {
            "text/plain": [
              "0.026"
            ]
          },
          "metadata": {},
          "execution_count": 20
        }
      ]
    },
    {
      "cell_type": "markdown",
      "source": [
        "###Validasi"
      ],
      "metadata": {
        "id": "7w7abEPjUS0C"
      }
    },
    {
      "cell_type": "code",
      "source": [
        "rf_valid = rf_model.predict(X_valid)"
      ],
      "metadata": {
        "id": "aN14ojQKDYJr"
      },
      "execution_count": null,
      "outputs": []
    },
    {
      "cell_type": "code",
      "source": [
        "confusion_matrix(y_valid,rf_valid)\n",
        "print(classification_report(y_valid,rf_valid))"
      ],
      "metadata": {
        "colab": {
          "base_uri": "https://localhost:8080/"
        },
        "id": "0IrzDA1_DjKX",
        "outputId": "8514d9e2-eb6d-4497-df24-424e50eab156"
      },
      "execution_count": null,
      "outputs": [
        {
          "output_type": "stream",
          "name": "stdout",
          "text": [
            "              precision    recall  f1-score   support\n",
            "\n",
            "           0       0.99      0.99      0.99       450\n",
            "           1       0.94      0.94      0.94        50\n",
            "\n",
            "    accuracy                           0.99       500\n",
            "   macro avg       0.97      0.97      0.97       500\n",
            "weighted avg       0.99      0.99      0.99       500\n",
            "\n"
          ]
        }
      ]
    },
    {
      "cell_type": "code",
      "source": [
        "print(roc_auc_score(y_valid, rf_valid))"
      ],
      "metadata": {
        "colab": {
          "base_uri": "https://localhost:8080/"
        },
        "id": "Xh5Y7li_IM4l",
        "outputId": "9cbd2156-5852-4906-b2f0-c65cd4b944bf"
      },
      "execution_count": null,
      "outputs": [
        {
          "output_type": "stream",
          "name": "stdout",
          "text": [
            "0.9666666666666666\n"
          ]
        }
      ]
    },
    {
      "cell_type": "markdown",
      "source": [
        "## Support Vector Machine"
      ],
      "metadata": {
        "id": "Ih26STq92yMI"
      }
    },
    {
      "cell_type": "code",
      "source": [
        "svc_model = SVC(random_state = 1)\n",
        "svc_model.fit(X_train,y_train)\n",
        "svc_pred = svc_model.predict(X_test)"
      ],
      "metadata": {
        "id": "ar_U-iNq2wJ2"
      },
      "execution_count": null,
      "outputs": []
    },
    {
      "cell_type": "code",
      "source": [
        "print(confusion_matrix(y_test,svc_pred))\n",
        "print(classification_report(y_test,svc_pred))"
      ],
      "metadata": {
        "id": "nqj34x4O3J4o",
        "colab": {
          "base_uri": "https://localhost:8080/"
        },
        "outputId": "9930e9b7-d530-4c4e-e2f6-d280ebec6284"
      },
      "execution_count": null,
      "outputs": [
        {
          "output_type": "stream",
          "name": "stdout",
          "text": [
            "[[443   9]\n",
            " [ 10  38]]\n",
            "              precision    recall  f1-score   support\n",
            "\n",
            "           0       0.98      0.98      0.98       452\n",
            "           1       0.81      0.79      0.80        48\n",
            "\n",
            "    accuracy                           0.96       500\n",
            "   macro avg       0.89      0.89      0.89       500\n",
            "weighted avg       0.96      0.96      0.96       500\n",
            "\n"
          ]
        }
      ]
    },
    {
      "cell_type": "code",
      "source": [
        "print(roc_auc_score(y_test, svc_pred))"
      ],
      "metadata": {
        "id": "NhmuPf-X3LOa",
        "colab": {
          "base_uri": "https://localhost:8080/"
        },
        "outputId": "2a0d05ae-2abf-42ab-f162-1e7548cd7e2e"
      },
      "execution_count": null,
      "outputs": [
        {
          "output_type": "stream",
          "name": "stdout",
          "text": [
            "0.885877581120944\n"
          ]
        }
      ]
    },
    {
      "cell_type": "markdown",
      "source": [
        "**MAE**"
      ],
      "metadata": {
        "id": "g9jBbZqYfXJx"
      }
    },
    {
      "cell_type": "code",
      "source": [
        "SVM_error=mae(y_test, svc_pred)\n",
        "SVM_error"
      ],
      "metadata": {
        "colab": {
          "base_uri": "https://localhost:8080/"
        },
        "id": "N2smRY6tfKBt",
        "outputId": "bdb8ca91-be24-4566-8601-3c3996612208"
      },
      "execution_count": null,
      "outputs": [
        {
          "output_type": "execute_result",
          "data": {
            "text/plain": [
              "0.038"
            ]
          },
          "metadata": {},
          "execution_count": 24
        }
      ]
    },
    {
      "cell_type": "code",
      "source": [
        "print(confusion_matrix(y_test,svc_pred))\n",
        "print(classification_report(y_test,svc_pred))"
      ],
      "metadata": {
        "id": "vzdCaUas3NJl",
        "colab": {
          "base_uri": "https://localhost:8080/"
        },
        "outputId": "9e6dd077-5003-4896-ada8-4847e4b61a11"
      },
      "execution_count": null,
      "outputs": [
        {
          "output_type": "stream",
          "name": "stdout",
          "text": [
            "[[443   9]\n",
            " [ 10  38]]\n",
            "              precision    recall  f1-score   support\n",
            "\n",
            "           0       0.98      0.98      0.98       452\n",
            "           1       0.81      0.79      0.80        48\n",
            "\n",
            "    accuracy                           0.96       500\n",
            "   macro avg       0.89      0.89      0.89       500\n",
            "weighted avg       0.96      0.96      0.96       500\n",
            "\n"
          ]
        }
      ]
    },
    {
      "cell_type": "code",
      "source": [
        "svc_valid = svc_model.predict(X_valid)\n",
        "\n",
        "confusion_matrix(y_valid,svc_valid)\n",
        "print(classification_report(y_valid,svc_valid))"
      ],
      "metadata": {
        "colab": {
          "base_uri": "https://localhost:8080/"
        },
        "id": "Py8lCB4cg0Bi",
        "outputId": "71a8f5e6-6694-4ad1-e87e-072ee6e34678"
      },
      "execution_count": null,
      "outputs": [
        {
          "output_type": "stream",
          "name": "stdout",
          "text": [
            "              precision    recall  f1-score   support\n",
            "\n",
            "           0       0.99      0.98      0.98       450\n",
            "           1       0.80      0.90      0.85        50\n",
            "\n",
            "    accuracy                           0.97       500\n",
            "   macro avg       0.90      0.94      0.92       500\n",
            "weighted avg       0.97      0.97      0.97       500\n",
            "\n"
          ]
        }
      ]
    },
    {
      "cell_type": "markdown",
      "source": [
        "##Logistic Regression"
      ],
      "metadata": {
        "id": "r8V0ID068HkM"
      }
    },
    {
      "cell_type": "code",
      "source": [
        "LR_model = LogisticRegression()\n",
        "LR_model.fit(X_train, y_train)\n",
        "y_pred = LR_model.predict(X_test)"
      ],
      "metadata": {
        "id": "UrDLI3hQOPCT"
      },
      "execution_count": null,
      "outputs": []
    },
    {
      "cell_type": "code",
      "source": [
        "print(confusion_matrix(y_test,y_pred))\n",
        "print(classification_report(y_test,y_pred))"
      ],
      "metadata": {
        "id": "Q2V7_Y0vOyrK",
        "colab": {
          "base_uri": "https://localhost:8080/"
        },
        "outputId": "97decbac-f8fa-470b-950e-e40d80be71d2"
      },
      "execution_count": null,
      "outputs": [
        {
          "output_type": "stream",
          "name": "stdout",
          "text": [
            "[[403  49]\n",
            " [  9  39]]\n",
            "              precision    recall  f1-score   support\n",
            "\n",
            "           0       0.98      0.89      0.93       452\n",
            "           1       0.44      0.81      0.57        48\n",
            "\n",
            "    accuracy                           0.88       500\n",
            "   macro avg       0.71      0.85      0.75       500\n",
            "weighted avg       0.93      0.88      0.90       500\n",
            "\n"
          ]
        }
      ]
    },
    {
      "cell_type": "code",
      "source": [
        "LR_valid = LR_model.predict(X_valid)\n",
        "\n",
        "confusion_matrix(y_valid,LR_valid)\n",
        "print(classification_report(y_valid,LR_valid))"
      ],
      "metadata": {
        "colab": {
          "base_uri": "https://localhost:8080/"
        },
        "id": "1gq05VE3gUl2",
        "outputId": "2546f063-7040-4f95-874d-81d80596f311"
      },
      "execution_count": null,
      "outputs": [
        {
          "output_type": "stream",
          "name": "stdout",
          "text": [
            "              precision    recall  f1-score   support\n",
            "\n",
            "           0       0.99      0.91      0.94       450\n",
            "           1       0.51      0.88      0.65        50\n",
            "\n",
            "    accuracy                           0.90       500\n",
            "   macro avg       0.75      0.89      0.80       500\n",
            "weighted avg       0.94      0.90      0.91       500\n",
            "\n"
          ]
        }
      ]
    },
    {
      "cell_type": "code",
      "source": [
        "print(roc_auc_score(y_test, y_pred))"
      ],
      "metadata": {
        "id": "m2xkK9S1Pver",
        "colab": {
          "base_uri": "https://localhost:8080/"
        },
        "outputId": "c4bc9c22-885b-46af-d69a-1cde9aeeaeae"
      },
      "execution_count": null,
      "outputs": [
        {
          "output_type": "stream",
          "name": "stdout",
          "text": [
            "0.8520464601769911\n"
          ]
        }
      ]
    },
    {
      "cell_type": "markdown",
      "source": [
        "**MAE**"
      ],
      "metadata": {
        "id": "wQv2yWuzfEe9"
      }
    },
    {
      "cell_type": "code",
      "source": [
        "LR_error = mae(y_test, y_pred)\n",
        "LR_error"
      ],
      "metadata": {
        "colab": {
          "base_uri": "https://localhost:8080/"
        },
        "id": "RGbjiGVVexKQ",
        "outputId": "17b36521-23a3-4d5d-ac81-ac6f66701bab"
      },
      "execution_count": null,
      "outputs": [
        {
          "output_type": "execute_result",
          "data": {
            "text/plain": [
              "0.116"
            ]
          },
          "metadata": {},
          "execution_count": 43
        }
      ]
    },
    {
      "cell_type": "markdown",
      "source": [
        "##Decision Tree"
      ],
      "metadata": {
        "id": "8Rw7r_CO8Hdq"
      }
    },
    {
      "cell_type": "code",
      "source": [
        "model_tree = DecisionTreeClassifier(random_state = 111)\n",
        "fit_tree = model_tree.fit(X_train,y_train)"
      ],
      "metadata": {
        "id": "4Pz47MQvWVxo"
      },
      "execution_count": null,
      "outputs": []
    },
    {
      "cell_type": "code",
      "source": [
        "predict_tree = fit_tree.predict(X_test)"
      ],
      "metadata": {
        "id": "7zJFNp3FWi2Y"
      },
      "execution_count": null,
      "outputs": []
    },
    {
      "cell_type": "code",
      "source": [
        "#fit_tree.predict_proba(X_test)"
      ],
      "metadata": {
        "id": "XuOe_VswWuz2"
      },
      "execution_count": null,
      "outputs": []
    },
    {
      "cell_type": "code",
      "source": [
        "print(confusion_matrix(y_test,predict_tree))\n",
        "print(classification_report(y_test,predict_tree))"
      ],
      "metadata": {
        "colab": {
          "base_uri": "https://localhost:8080/"
        },
        "id": "jtnQh8NEUxit",
        "outputId": "c6ee6716-2db9-4d47-f287-397c90c7082f"
      },
      "execution_count": null,
      "outputs": [
        {
          "output_type": "stream",
          "name": "stdout",
          "text": [
            "[[447   5]\n",
            " [  7  41]]\n",
            "              precision    recall  f1-score   support\n",
            "\n",
            "           0       0.98      0.99      0.99       452\n",
            "           1       0.89      0.85      0.87        48\n",
            "\n",
            "    accuracy                           0.98       500\n",
            "   macro avg       0.94      0.92      0.93       500\n",
            "weighted avg       0.98      0.98      0.98       500\n",
            "\n"
          ]
        }
      ]
    },
    {
      "cell_type": "code",
      "source": [
        "print(roc_auc_score(y_test, predict_tree))"
      ],
      "metadata": {
        "colab": {
          "base_uri": "https://localhost:8080/"
        },
        "id": "jEqiONPUMeLO",
        "outputId": "80abcd12-a093-4d63-935c-d28954e21533"
      },
      "execution_count": null,
      "outputs": [
        {
          "output_type": "stream",
          "name": "stdout",
          "text": [
            "0.9215523598820059\n"
          ]
        }
      ]
    },
    {
      "cell_type": "markdown",
      "source": [
        "**MAE**"
      ],
      "metadata": {
        "id": "W_TcP6Nyfnfj"
      }
    },
    {
      "cell_type": "code",
      "source": [
        "tree_error = mae(y_test, predict_tree)\n",
        "tree_error"
      ],
      "metadata": {
        "id": "6OzFaHuLIlVB",
        "colab": {
          "base_uri": "https://localhost:8080/"
        },
        "outputId": "c55154c3-4dc6-49e0-d76b-2f9e6375e062"
      },
      "execution_count": null,
      "outputs": [
        {
          "output_type": "execute_result",
          "data": {
            "text/plain": [
              "0.024"
            ]
          },
          "metadata": {},
          "execution_count": 28
        }
      ]
    },
    {
      "cell_type": "markdown",
      "source": [
        "###Validasi"
      ],
      "metadata": {
        "id": "IsvK4P4HbRo6"
      }
    },
    {
      "cell_type": "code",
      "source": [
        "tree_valid = fit_tree.predict(X_valid)\n",
        "\n",
        "confusion_matrix(y_valid, tree_valid)\n",
        "print(classification_report(y_valid,tree_valid))"
      ],
      "metadata": {
        "colab": {
          "base_uri": "https://localhost:8080/"
        },
        "id": "UWBj4s2ng9iE",
        "outputId": "9dc15a65-e945-4059-9068-a0862f01b1c9"
      },
      "execution_count": null,
      "outputs": [
        {
          "output_type": "stream",
          "name": "stdout",
          "text": [
            "              precision    recall  f1-score   support\n",
            "\n",
            "           0       0.99      0.98      0.98       450\n",
            "           1       0.85      0.88      0.86        50\n",
            "\n",
            "    accuracy                           0.97       500\n",
            "   macro avg       0.92      0.93      0.92       500\n",
            "weighted avg       0.97      0.97      0.97       500\n",
            "\n"
          ]
        }
      ]
    },
    {
      "cell_type": "code",
      "source": [
        "sklearn.tree.plot_tree(fit_tree)"
      ],
      "metadata": {
        "id": "QU3qzAkkXo3Q",
        "colab": {
          "base_uri": "https://localhost:8080/",
          "height": 1000
        },
        "outputId": "04e310a5-84ee-4ae0-9a16-7ab27116be6f"
      },
      "execution_count": null,
      "outputs": [
        {
          "output_type": "execute_result",
          "data": {
            "text/plain": [
              "[Text(0.4015625, 0.9666666666666667, 'X[1] <= 0.399\\nentropy = 1.0\\nsamples = 6336\\nvalue = [3168, 3168]'),\n",
              " Text(0.1484375, 0.9, 'X[4] <= 0.282\\nentropy = 0.227\\nsamples = 2670\\nvalue = [2572, 98]'),\n",
              " Text(0.025, 0.8333333333333334, 'X[4] <= 0.253\\nentropy = 0.014\\nsamples = 2448\\nvalue = [2445, 3]'),\n",
              " Text(0.0125, 0.7666666666666667, 'entropy = 0.0\\nsamples = 2285\\nvalue = [2285, 0]'),\n",
              " Text(0.0375, 0.7666666666666667, 'X[4] <= 0.258\\nentropy = 0.132\\nsamples = 163\\nvalue = [160, 3]'),\n",
              " Text(0.025, 0.7, 'entropy = 0.0\\nsamples = 1\\nvalue = [0, 1]'),\n",
              " Text(0.05, 0.7, 'X[4] <= 0.271\\nentropy = 0.096\\nsamples = 162\\nvalue = [160, 2]'),\n",
              " Text(0.0375, 0.6333333333333333, 'entropy = 0.0\\nsamples = 96\\nvalue = [96, 0]'),\n",
              " Text(0.0625, 0.6333333333333333, 'X[4] <= 0.28\\nentropy = 0.196\\nsamples = 66\\nvalue = [64, 2]'),\n",
              " Text(0.05, 0.5666666666666667, 'entropy = 0.0\\nsamples = 2\\nvalue = [0, 2]'),\n",
              " Text(0.075, 0.5666666666666667, 'entropy = 0.0\\nsamples = 64\\nvalue = [64, 0]'),\n",
              " Text(0.271875, 0.8333333333333334, 'X[1] <= 0.357\\nentropy = 0.985\\nsamples = 222\\nvalue = [127, 95]'),\n",
              " Text(0.16875, 0.7666666666666667, 'X[4] <= 0.359\\nentropy = 0.83\\nsamples = 145\\nvalue = [107, 38]'),\n",
              " Text(0.1375, 0.7, 'X[4] <= 0.301\\nentropy = 0.984\\nsamples = 80\\nvalue = [46, 34]'),\n",
              " Text(0.1125, 0.6333333333333333, 'X[6] <= 0.346\\nentropy = 0.469\\nsamples = 30\\nvalue = [27, 3]'),\n",
              " Text(0.1, 0.5666666666666667, 'entropy = 0.0\\nsamples = 24\\nvalue = [24, 0]'),\n",
              " Text(0.125, 0.5666666666666667, 'X[1] <= 0.299\\nentropy = 1.0\\nsamples = 6\\nvalue = [3, 3]'),\n",
              " Text(0.1125, 0.5, 'entropy = 0.0\\nsamples = 3\\nvalue = [0, 3]'),\n",
              " Text(0.1375, 0.5, 'entropy = 0.0\\nsamples = 3\\nvalue = [3, 0]'),\n",
              " Text(0.1625, 0.6333333333333333, 'X[3] <= 0.326\\nentropy = 0.958\\nsamples = 50\\nvalue = [19, 31]'),\n",
              " Text(0.15, 0.5666666666666667, 'entropy = 0.0\\nsamples = 17\\nvalue = [0, 17]'),\n",
              " Text(0.175, 0.5666666666666667, 'X[4] <= 0.319\\nentropy = 0.983\\nsamples = 33\\nvalue = [19, 14]'),\n",
              " Text(0.1625, 0.5, 'entropy = 0.0\\nsamples = 5\\nvalue = [0, 5]'),\n",
              " Text(0.1875, 0.5, 'X[4] <= 0.32\\nentropy = 0.906\\nsamples = 28\\nvalue = [19, 9]'),\n",
              " Text(0.175, 0.43333333333333335, 'entropy = 0.0\\nsamples = 11\\nvalue = [11, 0]'),\n",
              " Text(0.2, 0.43333333333333335, 'X[3] <= 0.957\\nentropy = 0.998\\nsamples = 17\\nvalue = [8, 9]'),\n",
              " Text(0.1875, 0.36666666666666664, 'entropy = 0.0\\nsamples = 8\\nvalue = [0, 8]'),\n",
              " Text(0.2125, 0.36666666666666664, 'X[4] <= 0.331\\nentropy = 0.503\\nsamples = 9\\nvalue = [8, 1]'),\n",
              " Text(0.2, 0.3, 'entropy = 0.0\\nsamples = 1\\nvalue = [0, 1]'),\n",
              " Text(0.225, 0.3, 'entropy = 0.0\\nsamples = 8\\nvalue = [8, 0]'),\n",
              " Text(0.2, 0.7, 'X[1] <= 0.339\\nentropy = 0.334\\nsamples = 65\\nvalue = [61, 4]'),\n",
              " Text(0.1875, 0.6333333333333333, 'entropy = 0.0\\nsamples = 45\\nvalue = [45, 0]'),\n",
              " Text(0.2125, 0.6333333333333333, 'X[0] <= 0.263\\nentropy = 0.722\\nsamples = 20\\nvalue = [16, 4]'),\n",
              " Text(0.2, 0.5666666666666667, 'entropy = 0.0\\nsamples = 2\\nvalue = [0, 2]'),\n",
              " Text(0.225, 0.5666666666666667, 'X[1] <= 0.342\\nentropy = 0.503\\nsamples = 18\\nvalue = [16, 2]'),\n",
              " Text(0.2125, 0.5, 'entropy = 0.0\\nsamples = 1\\nvalue = [0, 1]'),\n",
              " Text(0.2375, 0.5, 'X[2] <= 0.978\\nentropy = 0.323\\nsamples = 17\\nvalue = [16, 1]'),\n",
              " Text(0.225, 0.43333333333333335, 'entropy = 0.0\\nsamples = 13\\nvalue = [13, 0]'),\n",
              " Text(0.25, 0.43333333333333335, 'X[2] <= 0.978\\nentropy = 0.811\\nsamples = 4\\nvalue = [3, 1]'),\n",
              " Text(0.2375, 0.36666666666666664, 'entropy = 0.0\\nsamples = 1\\nvalue = [0, 1]'),\n",
              " Text(0.2625, 0.36666666666666664, 'entropy = 0.0\\nsamples = 3\\nvalue = [3, 0]'),\n",
              " Text(0.375, 0.7666666666666667, 'X[4] <= 0.447\\nentropy = 0.826\\nsamples = 77\\nvalue = [20, 57]'),\n",
              " Text(0.3625, 0.7, 'X[3] <= 0.337\\nentropy = 0.639\\nsamples = 68\\nvalue = [11, 57]'),\n",
              " Text(0.35, 0.6333333333333333, 'X[10] <= 0.5\\nentropy = 0.849\\nsamples = 40\\nvalue = [11, 29]'),\n",
              " Text(0.325, 0.5666666666666667, 'X[5] <= 0.038\\nentropy = 0.684\\nsamples = 33\\nvalue = [6, 27]'),\n",
              " Text(0.3125, 0.5, 'X[2] <= 0.943\\nentropy = 0.971\\nsamples = 15\\nvalue = [6, 9]'),\n",
              " Text(0.3, 0.43333333333333335, 'X[0] <= 0.837\\nentropy = 0.469\\nsamples = 10\\nvalue = [1, 9]'),\n",
              " Text(0.2875, 0.36666666666666664, 'entropy = 0.0\\nsamples = 1\\nvalue = [1, 0]'),\n",
              " Text(0.3125, 0.36666666666666664, 'entropy = 0.0\\nsamples = 9\\nvalue = [0, 9]'),\n",
              " Text(0.325, 0.43333333333333335, 'entropy = 0.0\\nsamples = 5\\nvalue = [5, 0]'),\n",
              " Text(0.3375, 0.5, 'entropy = 0.0\\nsamples = 18\\nvalue = [0, 18]'),\n",
              " Text(0.375, 0.5666666666666667, 'X[8] <= 0.5\\nentropy = 0.863\\nsamples = 7\\nvalue = [5, 2]'),\n",
              " Text(0.3625, 0.5, 'entropy = 0.0\\nsamples = 5\\nvalue = [5, 0]'),\n",
              " Text(0.3875, 0.5, 'entropy = 0.0\\nsamples = 2\\nvalue = [0, 2]'),\n",
              " Text(0.375, 0.6333333333333333, 'entropy = 0.0\\nsamples = 28\\nvalue = [0, 28]'),\n",
              " Text(0.3875, 0.7, 'entropy = 0.0\\nsamples = 9\\nvalue = [9, 0]'),\n",
              " Text(0.6546875, 0.9, 'X[5] <= 0.001\\nentropy = 0.64\\nsamples = 3666\\nvalue = [596, 3070]'),\n",
              " Text(0.5125, 0.8333333333333334, 'X[3] <= 0.336\\nentropy = 0.986\\nsamples = 870\\nvalue = [496, 374]'),\n",
              " Text(0.45, 0.7666666666666667, 'X[1] <= 0.447\\nentropy = 0.186\\nsamples = 495\\nvalue = [481, 14]'),\n",
              " Text(0.425, 0.7, 'X[4] <= 0.332\\nentropy = 0.876\\nsamples = 44\\nvalue = [31, 13]'),\n",
              " Text(0.4125, 0.6333333333333333, 'entropy = 0.0\\nsamples = 24\\nvalue = [24, 0]'),\n",
              " Text(0.4375, 0.6333333333333333, 'X[8] <= 0.5\\nentropy = 0.934\\nsamples = 20\\nvalue = [7, 13]'),\n",
              " Text(0.425, 0.5666666666666667, 'X[4] <= 0.45\\nentropy = 0.764\\nsamples = 9\\nvalue = [7, 2]'),\n",
              " Text(0.4125, 0.5, 'X[3] <= 0.167\\nentropy = 1.0\\nsamples = 4\\nvalue = [2, 2]'),\n",
              " Text(0.4, 0.43333333333333335, 'X[4] <= 0.41\\nentropy = 0.918\\nsamples = 3\\nvalue = [2, 1]'),\n",
              " Text(0.3875, 0.36666666666666664, 'entropy = 0.0\\nsamples = 2\\nvalue = [2, 0]'),\n",
              " Text(0.4125, 0.36666666666666664, 'entropy = 0.0\\nsamples = 1\\nvalue = [0, 1]'),\n",
              " Text(0.425, 0.43333333333333335, 'entropy = 0.0\\nsamples = 1\\nvalue = [0, 1]'),\n",
              " Text(0.4375, 0.5, 'entropy = 0.0\\nsamples = 5\\nvalue = [5, 0]'),\n",
              " Text(0.45, 0.5666666666666667, 'entropy = 0.0\\nsamples = 11\\nvalue = [0, 11]'),\n",
              " Text(0.475, 0.7, 'X[8] <= 0.5\\nentropy = 0.023\\nsamples = 451\\nvalue = [450, 1]'),\n",
              " Text(0.4625, 0.6333333333333333, 'entropy = 0.0\\nsamples = 430\\nvalue = [430, 0]'),\n",
              " Text(0.4875, 0.6333333333333333, 'X[2] <= 0.926\\nentropy = 0.276\\nsamples = 21\\nvalue = [20, 1]'),\n",
              " Text(0.475, 0.5666666666666667, 'X[2] <= 0.925\\nentropy = 1.0\\nsamples = 2\\nvalue = [1, 1]'),\n",
              " Text(0.4625, 0.5, 'entropy = 0.0\\nsamples = 1\\nvalue = [1, 0]'),\n",
              " Text(0.4875, 0.5, 'entropy = 0.0\\nsamples = 1\\nvalue = [0, 1]'),\n",
              " Text(0.5, 0.5666666666666667, 'entropy = 0.0\\nsamples = 19\\nvalue = [19, 0]'),\n",
              " Text(0.575, 0.7666666666666667, 'X[1] <= 0.486\\nentropy = 0.242\\nsamples = 375\\nvalue = [15, 360]'),\n",
              " Text(0.5625, 0.7, 'X[8] <= 0.5\\nentropy = 0.918\\nsamples = 45\\nvalue = [15, 30]'),\n",
              " Text(0.55, 0.6333333333333333, 'X[4] <= 0.259\\nentropy = 0.983\\nsamples = 26\\nvalue = [15, 11]'),\n",
              " Text(0.525, 0.5666666666666667, 'X[3] <= 0.603\\nentropy = 0.414\\nsamples = 12\\nvalue = [11, 1]'),\n",
              " Text(0.5125, 0.5, 'entropy = 0.0\\nsamples = 1\\nvalue = [0, 1]'),\n",
              " Text(0.5375, 0.5, 'entropy = 0.0\\nsamples = 11\\nvalue = [11, 0]'),\n",
              " Text(0.575, 0.5666666666666667, 'X[9] <= 0.5\\nentropy = 0.863\\nsamples = 14\\nvalue = [4, 10]'),\n",
              " Text(0.5625, 0.5, 'entropy = 0.0\\nsamples = 10\\nvalue = [0, 10]'),\n",
              " Text(0.5875, 0.5, 'entropy = 0.0\\nsamples = 4\\nvalue = [4, 0]'),\n",
              " Text(0.575, 0.6333333333333333, 'entropy = 0.0\\nsamples = 19\\nvalue = [0, 19]'),\n",
              " Text(0.5875, 0.7, 'entropy = 0.0\\nsamples = 330\\nvalue = [0, 330]'),\n",
              " Text(0.796875, 0.8333333333333334, 'X[1] <= 0.495\\nentropy = 0.223\\nsamples = 2796\\nvalue = [100, 2696]'),\n",
              " Text(0.784375, 0.7666666666666667, 'X[4] <= 0.24\\nentropy = 0.801\\nsamples = 410\\nvalue = [100, 310]'),\n",
              " Text(0.65625, 0.7, 'X[1] <= 0.44\\nentropy = 0.931\\nsamples = 124\\nvalue = [81, 43]'),\n",
              " Text(0.6125, 0.6333333333333333, 'X[9] <= 0.5\\nentropy = 0.292\\nsamples = 39\\nvalue = [37, 2]'),\n",
              " Text(0.6, 0.5666666666666667, 'entropy = 0.0\\nsamples = 19\\nvalue = [19, 0]'),\n",
              " Text(0.625, 0.5666666666666667, 'X[0] <= 0.658\\nentropy = 0.469\\nsamples = 20\\nvalue = [18, 2]'),\n",
              " Text(0.6125, 0.5, 'X[1] <= 0.424\\nentropy = 0.764\\nsamples = 9\\nvalue = [7, 2]'),\n",
              " Text(0.6, 0.43333333333333335, 'X[3] <= 0.383\\nentropy = 1.0\\nsamples = 4\\nvalue = [2, 2]'),\n",
              " Text(0.5875, 0.36666666666666664, 'entropy = 0.0\\nsamples = 2\\nvalue = [2, 0]'),\n",
              " Text(0.6125, 0.36666666666666664, 'entropy = 0.0\\nsamples = 2\\nvalue = [0, 2]'),\n",
              " Text(0.625, 0.43333333333333335, 'entropy = 0.0\\nsamples = 5\\nvalue = [5, 0]'),\n",
              " Text(0.6375, 0.5, 'entropy = 0.0\\nsamples = 11\\nvalue = [11, 0]'),\n",
              " Text(0.7, 0.6333333333333333, 'X[0] <= 0.859\\nentropy = 0.999\\nsamples = 85\\nvalue = [44, 41]'),\n",
              " Text(0.6875, 0.5666666666666667, 'X[0] <= 0.1\\nentropy = 0.983\\nsamples = 71\\nvalue = [30, 41]'),\n",
              " Text(0.675, 0.5, 'entropy = 0.0\\nsamples = 5\\nvalue = [5, 0]'),\n",
              " Text(0.7, 0.5, 'X[2] <= 0.981\\nentropy = 0.957\\nsamples = 66\\nvalue = [25, 41]'),\n",
              " Text(0.6875, 0.43333333333333335, 'X[2] <= 0.976\\nentropy = 0.933\\nsamples = 63\\nvalue = [22, 41]'),\n",
              " Text(0.6375, 0.36666666666666664, 'X[9] <= 0.5\\nentropy = 0.985\\nsamples = 49\\nvalue = [21, 28]'),\n",
              " Text(0.5875, 0.3, 'X[1] <= 0.487\\nentropy = 0.896\\nsamples = 16\\nvalue = [11, 5]'),\n",
              " Text(0.5625, 0.23333333333333334, 'X[4] <= 0.223\\nentropy = 0.439\\nsamples = 11\\nvalue = [10, 1]'),\n",
              " Text(0.55, 0.16666666666666666, 'entropy = 0.0\\nsamples = 10\\nvalue = [10, 0]'),\n",
              " Text(0.575, 0.16666666666666666, 'entropy = 0.0\\nsamples = 1\\nvalue = [0, 1]'),\n",
              " Text(0.6125, 0.23333333333333334, 'X[3] <= 0.235\\nentropy = 0.722\\nsamples = 5\\nvalue = [1, 4]'),\n",
              " Text(0.6, 0.16666666666666666, 'entropy = 0.0\\nsamples = 4\\nvalue = [0, 4]'),\n",
              " Text(0.625, 0.16666666666666666, 'entropy = 0.0\\nsamples = 1\\nvalue = [1, 0]'),\n",
              " Text(0.6875, 0.3, 'X[3] <= 0.674\\nentropy = 0.885\\nsamples = 33\\nvalue = [10, 23]'),\n",
              " Text(0.6625, 0.23333333333333334, 'X[0] <= 0.167\\nentropy = 0.993\\nsamples = 20\\nvalue = [9, 11]'),\n",
              " Text(0.65, 0.16666666666666666, 'entropy = 0.0\\nsamples = 7\\nvalue = [0, 7]'),\n",
              " Text(0.675, 0.16666666666666666, 'X[4] <= 0.199\\nentropy = 0.89\\nsamples = 13\\nvalue = [9, 4]'),\n",
              " Text(0.6625, 0.1, 'X[6] <= 0.346\\nentropy = 0.469\\nsamples = 10\\nvalue = [9, 1]'),\n",
              " Text(0.65, 0.03333333333333333, 'entropy = 0.0\\nsamples = 9\\nvalue = [9, 0]'),\n",
              " Text(0.675, 0.03333333333333333, 'entropy = 0.0\\nsamples = 1\\nvalue = [0, 1]'),\n",
              " Text(0.6875, 0.1, 'entropy = 0.0\\nsamples = 3\\nvalue = [0, 3]'),\n",
              " Text(0.7125, 0.23333333333333334, 'X[0] <= 0.191\\nentropy = 0.391\\nsamples = 13\\nvalue = [1, 12]'),\n",
              " Text(0.7, 0.16666666666666666, 'entropy = 0.0\\nsamples = 1\\nvalue = [1, 0]'),\n",
              " Text(0.725, 0.16666666666666666, 'entropy = 0.0\\nsamples = 12\\nvalue = [0, 12]'),\n",
              " Text(0.7375, 0.36666666666666664, 'X[0] <= 0.625\\nentropy = 0.371\\nsamples = 14\\nvalue = [1, 13]'),\n",
              " Text(0.725, 0.3, 'entropy = 0.0\\nsamples = 12\\nvalue = [0, 12]'),\n",
              " Text(0.75, 0.3, 'X[4] <= 0.179\\nentropy = 1.0\\nsamples = 2\\nvalue = [1, 1]'),\n",
              " Text(0.7375, 0.23333333333333334, 'entropy = 0.0\\nsamples = 1\\nvalue = [0, 1]'),\n",
              " Text(0.7625, 0.23333333333333334, 'entropy = 0.0\\nsamples = 1\\nvalue = [1, 0]'),\n",
              " Text(0.7125, 0.43333333333333335, 'entropy = 0.0\\nsamples = 3\\nvalue = [3, 0]'),\n",
              " Text(0.7125, 0.5666666666666667, 'entropy = 0.0\\nsamples = 14\\nvalue = [14, 0]'),\n",
              " Text(0.9125, 0.7, 'X[6] <= 0.305\\nentropy = 0.352\\nsamples = 286\\nvalue = [19, 267]'),\n",
              " Text(0.8625, 0.6333333333333333, 'X[0] <= 0.931\\nentropy = 0.259\\nsamples = 252\\nvalue = [11, 241]'),\n",
              " Text(0.85, 0.5666666666666667, 'X[3] <= 0.335\\nentropy = 0.224\\nsamples = 250\\nvalue = [9, 241]'),\n",
              " Text(0.8375, 0.5, 'X[5] <= 0.994\\nentropy = 0.353\\nsamples = 135\\nvalue = [9, 126]'),\n",
              " Text(0.8, 0.43333333333333335, 'X[4] <= 0.273\\nentropy = 0.1\\nsamples = 77\\nvalue = [1, 76]'),\n",
              " Text(0.7875, 0.36666666666666664, 'X[4] <= 0.268\\nentropy = 0.811\\nsamples = 4\\nvalue = [1, 3]'),\n",
              " Text(0.775, 0.3, 'entropy = 0.0\\nsamples = 3\\nvalue = [0, 3]'),\n",
              " Text(0.8, 0.3, 'entropy = 0.0\\nsamples = 1\\nvalue = [1, 0]'),\n",
              " Text(0.8125, 0.36666666666666664, 'entropy = 0.0\\nsamples = 73\\nvalue = [0, 73]'),\n",
              " Text(0.875, 0.43333333333333335, 'X[4] <= 0.379\\nentropy = 0.579\\nsamples = 58\\nvalue = [8, 50]'),\n",
              " Text(0.8375, 0.36666666666666664, 'X[1] <= 0.403\\nentropy = 0.258\\nsamples = 46\\nvalue = [2, 44]'),\n",
              " Text(0.825, 0.3, 'entropy = 0.0\\nsamples = 1\\nvalue = [1, 0]'),\n",
              " Text(0.85, 0.3, 'X[9] <= 0.5\\nentropy = 0.154\\nsamples = 45\\nvalue = [1, 44]'),\n",
              " Text(0.8375, 0.23333333333333334, 'entropy = 0.0\\nsamples = 35\\nvalue = [0, 35]'),\n",
              " Text(0.8625, 0.23333333333333334, 'X[0] <= 0.366\\nentropy = 0.469\\nsamples = 10\\nvalue = [1, 9]'),\n",
              " Text(0.85, 0.16666666666666666, 'entropy = 0.0\\nsamples = 1\\nvalue = [1, 0]'),\n",
              " Text(0.875, 0.16666666666666666, 'entropy = 0.0\\nsamples = 9\\nvalue = [0, 9]'),\n",
              " Text(0.9125, 0.36666666666666664, 'X[0] <= 0.624\\nentropy = 1.0\\nsamples = 12\\nvalue = [6, 6]'),\n",
              " Text(0.9, 0.3, 'X[1] <= 0.474\\nentropy = 0.811\\nsamples = 8\\nvalue = [6, 2]'),\n",
              " Text(0.8875, 0.23333333333333334, 'entropy = 0.0\\nsamples = 5\\nvalue = [5, 0]'),\n",
              " Text(0.9125, 0.23333333333333334, 'X[0] <= 0.56\\nentropy = 0.918\\nsamples = 3\\nvalue = [1, 2]'),\n",
              " Text(0.9, 0.16666666666666666, 'entropy = 0.0\\nsamples = 2\\nvalue = [0, 2]'),\n",
              " Text(0.925, 0.16666666666666666, 'entropy = 0.0\\nsamples = 1\\nvalue = [1, 0]'),\n",
              " Text(0.925, 0.3, 'entropy = 0.0\\nsamples = 4\\nvalue = [0, 4]'),\n",
              " Text(0.8625, 0.5, 'entropy = 0.0\\nsamples = 115\\nvalue = [0, 115]'),\n",
              " Text(0.875, 0.5666666666666667, 'entropy = 0.0\\nsamples = 2\\nvalue = [2, 0]'),\n",
              " Text(0.9625, 0.6333333333333333, 'X[0] <= 0.23\\nentropy = 0.787\\nsamples = 34\\nvalue = [8, 26]'),\n",
              " Text(0.95, 0.5666666666666667, 'entropy = 0.0\\nsamples = 5\\nvalue = [5, 0]'),\n",
              " Text(0.975, 0.5666666666666667, 'X[1] <= 0.424\\nentropy = 0.48\\nsamples = 29\\nvalue = [3, 26]'),\n",
              " Text(0.9625, 0.5, 'X[3] <= 0.45\\nentropy = 0.985\\nsamples = 7\\nvalue = [3, 4]'),\n",
              " Text(0.95, 0.43333333333333335, 'X[10] <= 0.5\\nentropy = 0.811\\nsamples = 4\\nvalue = [3, 1]'),\n",
              " Text(0.9375, 0.36666666666666664, 'entropy = 0.0\\nsamples = 3\\nvalue = [3, 0]'),\n",
              " Text(0.9625, 0.36666666666666664, 'entropy = 0.0\\nsamples = 1\\nvalue = [0, 1]'),\n",
              " Text(0.975, 0.43333333333333335, 'entropy = 0.0\\nsamples = 3\\nvalue = [0, 3]'),\n",
              " Text(0.9875, 0.5, 'entropy = 0.0\\nsamples = 22\\nvalue = [0, 22]'),\n",
              " Text(0.809375, 0.7666666666666667, 'entropy = 0.0\\nsamples = 2386\\nvalue = [0, 2386]')]"
            ]
          },
          "metadata": {},
          "execution_count": 112
        },
        {
          "output_type": "display_data",
          "data": {
            "text/plain": [
              "<Figure size 432x288 with 1 Axes>"
            ],
            "image/png": "[encoded data removed]"
          },
          "metadata": {
            "needs_background": "light"
          }
        }
      ]
    },
    {
      "cell_type": "code",
      "source": [
        "import graphviz \n",
        "dot_data = sklearn.tree.export_graphviz(fit_tree, out_file=None) \n",
        "graph = graphviz.Source(dot_data) \n",
        "graph.render(\"DTGraph\") #kalo mau liat, ada di folder sebelah kiri nanti ke render namanya DTGraph.pdf. Kalo belum muncul, tunggu aja. Tapi harus jalanin code dulu soalnya tiap runtime datanya kehapus kl gasalah"
      ],
      "metadata": {
        "id": "pyR748jBYx9d",
        "colab": {
          "base_uri": "https://localhost:8080/",
          "height": 36
        },
        "outputId": "b0247a4e-f428-4bce-c717-a3d746142f97"
      },
      "execution_count": null,
      "outputs": [
        {
          "output_type": "execute_result",
          "data": {
            "text/plain": [
              "'DTGraph.pdf'"
            ],
            "application/vnd.google.colaboratory.intrinsic+json": {
              "type": "string"
            }
          },
          "metadata": {},
          "execution_count": 113
        }
      ]
    },
    {
      "cell_type": "markdown",
      "source": [
        "##KNN"
      ],
      "metadata": {
        "id": "IpUIj8We8HMS"
      }
    },
    {
      "cell_type": "code",
      "source": [
        "#Trying model with KNN\n",
        "\n",
        "knn = KNeighborsClassifier(n_neighbors=2)\n",
        "\n",
        "knn.fit(X_train, y_train)\n",
        "\n",
        "knn_pred = knn.predict(X_test)"
      ],
      "metadata": {
        "id": "JUOAvvdH5o9d"
      },
      "execution_count": null,
      "outputs": []
    },
    {
      "cell_type": "code",
      "source": [
        "accuracy = accuracy_score(y_test, knn_pred)\n",
        "print(\"Accuracy with KNN\", accuracy)\n",
        "\n",
        "print(classification_report(y_test, knn_pred))\n",
        "\n",
        "print(roc_auc_score(y_test, knn_pred))"
      ],
      "metadata": {
        "id": "fsPWgfaQ5vQO",
        "colab": {
          "base_uri": "https://localhost:8080/"
        },
        "outputId": "4da0f3d1-ac58-41b7-b1b5-3e722dc867d4"
      },
      "execution_count": null,
      "outputs": [
        {
          "output_type": "stream",
          "name": "stdout",
          "text": [
            "Accuracy with KNN 0.948\n",
            "              precision    recall  f1-score   support\n",
            "\n",
            "           0       0.97      0.97      0.97       452\n",
            "           1       0.74      0.71      0.72        48\n",
            "\n",
            "    accuracy                           0.95       500\n",
            "   macro avg       0.85      0.84      0.85       500\n",
            "weighted avg       0.95      0.95      0.95       500\n",
            "\n",
            "0.8408923303834809\n"
          ]
        }
      ]
    },
    {
      "cell_type": "code",
      "source": [
        "knn_valid = knn.predict(X_valid)\n",
        "\n",
        "confusion_matrix(y_valid,knn_valid)\n",
        "print(classification_report(y_valid,knn_valid))"
      ],
      "metadata": {
        "colab": {
          "base_uri": "https://localhost:8080/"
        },
        "id": "6YrQvM7dhKOG",
        "outputId": "f3edeac7-072f-475a-ecbc-ed7d493cda96"
      },
      "execution_count": null,
      "outputs": [
        {
          "output_type": "stream",
          "name": "stdout",
          "text": [
            "              precision    recall  f1-score   support\n",
            "\n",
            "           0       0.97      0.98      0.98       450\n",
            "           1       0.83      0.76      0.79        50\n",
            "\n",
            "    accuracy                           0.96       500\n",
            "   macro avg       0.90      0.87      0.88       500\n",
            "weighted avg       0.96      0.96      0.96       500\n",
            "\n"
          ]
        }
      ]
    },
    {
      "cell_type": "code",
      "source": [
        "cm = confusion_matrix(y_test, knn_pred)\n",
        "cm"
      ],
      "metadata": {
        "id": "MeL8YWUD6jyr",
        "colab": {
          "base_uri": "https://localhost:8080/"
        },
        "outputId": "e76024d8-6e12-4bff-b89f-e62b1c4096ad"
      },
      "execution_count": null,
      "outputs": [
        {
          "output_type": "execute_result",
          "data": {
            "text/plain": [
              "array([[440,  12],\n",
              "       [ 14,  34]])"
            ]
          },
          "metadata": {},
          "execution_count": 57
        }
      ]
    },
    {
      "cell_type": "markdown",
      "source": [
        "**MAE**"
      ],
      "metadata": {
        "id": "sAezDSgqfrl7"
      }
    },
    {
      "cell_type": "code",
      "source": [
        "knn_error = mae(y_test, knn_pred)\n",
        "knn_error"
      ],
      "metadata": {
        "colab": {
          "base_uri": "https://localhost:8080/"
        },
        "id": "TGu3COxdft5J",
        "outputId": "8c2b9e6d-84ce-474c-904d-f70cfa9cf7bb"
      },
      "execution_count": null,
      "outputs": [
        {
          "output_type": "execute_result",
          "data": {
            "text/plain": [
              "0.052"
            ]
          },
          "metadata": {},
          "execution_count": 58
        }
      ]
    },
    {
      "cell_type": "markdown",
      "source": [
        "##Model Comparison"
      ],
      "metadata": {
        "id": "mrjLX5hO8Pd9"
      }
    },
    {
      "cell_type": "markdown",
      "source": [
        "PIC: Aram\n",
        "\n",
        "Random Forest\n",
        "\n",
        "Comparison (hasil test aja):\n",
        "RF\n",
        "SVM\n",
        "DT\n",
        "LogR\n",
        "KNN\n",
        "\n",
        "Metric:\n",
        "- \n",
        "- "
      ],
      "metadata": {
        "id": "k-vWt1pf8Uq7"
      }
    },
    {
      "cell_type": "markdown",
      "source": [
        "##Model Tuning"
      ],
      "metadata": {
        "id": "qbO6JkSv8Qq7"
      }
    },
    {
      "cell_type": "code",
      "source": [
        "#Decision Tree"
      ],
      "metadata": {
        "id": "vMiSyJJHHsut"
      },
      "execution_count": null,
      "outputs": []
    },
    {
      "cell_type": "code",
      "source": [
        "#Grid Search CV"
      ],
      "metadata": {
        "id": "wppgr4lS47AS"
      },
      "execution_count": null,
      "outputs": []
    },
    {
      "cell_type": "code",
      "source": [
        "from sklearn.pipeline import Pipeline\n",
        "from sklearn.model_selection import GridSearchCV"
      ],
      "metadata": {
        "id": "qsjVsCRZMfvN"
      },
      "execution_count": null,
      "outputs": []
    },
    {
      "cell_type": "code",
      "source": [
        "tree_tuning = DecisionTreeClassifier()"
      ],
      "metadata": {
        "id": "iITt2iJW6L1X"
      },
      "execution_count": null,
      "outputs": []
    },
    {
      "cell_type": "code",
      "source": [
        "criterion = ['gini', 'entropy']\n",
        "max_depth = [2,5,8,10,12,15,18,20]\n",
        "min_samples_split = np.arange(1,40,5)\n",
        "min_samples_leaf = np.arange(1,40,5)\n"
      ],
      "metadata": {
        "id": "GPVSORGN7EET"
      },
      "execution_count": null,
      "outputs": []
    },
    {
      "cell_type": "code",
      "source": [
        "parameters = {\n",
        "              \"criterion\":['gini','entropy'],\n",
        "              \"max_depth\":range(1,20),\n",
        "              \"min_samples_split\":range(1,20),\n",
        "              \"min_samples_leaf\":range(1,5)\n",
        "}"
      ],
      "metadata": {
        "id": "2EJ3T3Vp7EBW"
      },
      "execution_count": null,
      "outputs": []
    },
    {
      "cell_type": "code",
      "source": [
        "grid = GridSearchCV(tree_tuning,\n",
        "                    param_grid = parameters,\n",
        "                    cv = 10,\n",
        "                    verbose = 1,\n",
        "                    n_jobs = -1)\n",
        "grid.fit(X_train, y_train)"
      ],
      "metadata": {
        "colab": {
          "base_uri": "https://localhost:8080/"
        },
        "id": "zpU0GHZNXMvR",
        "outputId": "b23e1158-d4b4-42cf-f19c-16bc1fbac76d"
      },
      "execution_count": null,
      "outputs": [
        {
          "output_type": "stream",
          "name": "stdout",
          "text": [
            "Fitting 10 folds for each of 2888 candidates, totalling 28880 fits\n"
          ]
        },
        {
          "output_type": "execute_result",
          "data": {
            "text/plain": [
              "GridSearchCV(cv=10, estimator=DecisionTreeClassifier(), n_jobs=-1,\n",
              "             param_grid={'criterion': ['gini', 'entropy'],\n",
              "                         'max_depth': range(1, 20),\n",
              "                         'min_samples_leaf': range(1, 5),\n",
              "                         'min_samples_split': range(1, 20)},\n",
              "             verbose=1)"
            ]
          },
          "metadata": {},
          "execution_count": 63
        }
      ]
    },
    {
      "cell_type": "code",
      "source": [
        "grid.best_params_"
      ],
      "metadata": {
        "colab": {
          "base_uri": "https://localhost:8080/"
        },
        "id": "tPsS8G2DdiD8",
        "outputId": "99a8708b-684f-4f6b-dafa-19c0d40b8e5a"
      },
      "execution_count": null,
      "outputs": [
        {
          "output_type": "execute_result",
          "data": {
            "text/plain": [
              "{'criterion': 'entropy',\n",
              " 'max_depth': 14,\n",
              " 'min_samples_leaf': 1,\n",
              " 'min_samples_split': 4}"
            ]
          },
          "metadata": {},
          "execution_count": 67
        }
      ]
    },
    {
      "cell_type": "code",
      "source": [
        ""
      ],
      "metadata": {
        "id": "s9HzzlFNdev7"
      },
      "execution_count": null,
      "outputs": []
    },
    {
      "cell_type": "markdown",
      "source": [
        "##Tuned Model"
      ],
      "metadata": {
        "id": "lEPg6N_c4qn1"
      }
    },
    {
      "cell_type": "code",
      "source": [
        "model_tree_tuned = DecisionTreeClassifier(criterion = 'gini', \n",
        "                                          max_depth = 12, \n",
        "                                          min_samples_leaf = 1,\n",
        "                                          min_samples_split = 2, \n",
        "                                          random_state = 111)\n",
        "tuned_tree = model_tree_tuned.fit(X_train,y_train)\n",
        "predict_tree_tuned = tuned_tree.predict(X_test)\n",
        "print(confusion_matrix(y_test,predict_tree_tuned))\n",
        "print(classification_report(y_test,predict_tree_tuned))"
      ],
      "metadata": {
        "id": "mw1rWHA18zpe",
        "colab": {
          "base_uri": "https://localhost:8080/"
        },
        "outputId": "b04236ea-af0e-4b89-822f-28cd249e6470"
      },
      "execution_count": null,
      "outputs": [
        {
          "output_type": "stream",
          "name": "stdout",
          "text": [
            "[[449   3]\n",
            " [  8  40]]\n",
            "              precision    recall  f1-score   support\n",
            "\n",
            "           0       0.98      0.99      0.99       452\n",
            "           1       0.93      0.83      0.88        48\n",
            "\n",
            "    accuracy                           0.98       500\n",
            "   macro avg       0.96      0.91      0.93       500\n",
            "weighted avg       0.98      0.98      0.98       500\n",
            "\n"
          ]
        }
      ]
    },
    {
      "cell_type": "code",
      "source": [
        ""
      ],
      "metadata": {
        "id": "HQjEH1CVa81M"
      },
      "execution_count": null,
      "outputs": []
    },
    {
      "cell_type": "code",
      "source": [
        ""
      ],
      "metadata": {
        "id": "41xHq3pR8zkD"
      },
      "execution_count": null,
      "outputs": []
    },
    {
      "cell_type": "code",
      "source": [
        "model_tree_tuned = DecisionTreeClassifier(criterion = 'gini', \n",
        "                                          max_depth = 14, \n",
        "                                          min_samples_leaf = 1,\n",
        "                                          min_samples_split = 4, \n",
        "                                          random_state = 111)\n",
        "tuned_tree = model_tree_tuned.fit(X_train,y_train)\n",
        "predict_tree_tuned = tuned_tree.predict(X_test)\n",
        "print(confusion_matrix(y_test,predict_tree_tuned))\n",
        "print(classification_report(y_test,predict_tree_tuned))"
      ],
      "metadata": {
        "colab": {
          "base_uri": "https://localhost:8080/"
        },
        "id": "rhi8QEqvdoIf",
        "outputId": "33a31890-6d87-439f-95b5-95fb6db95798"
      },
      "execution_count": null,
      "outputs": [
        {
          "output_type": "stream",
          "name": "stdout",
          "text": [
            "[[448   4]\n",
            " [  8  40]]\n",
            "              precision    recall  f1-score   support\n",
            "\n",
            "           0       0.98      0.99      0.99       452\n",
            "           1       0.91      0.83      0.87        48\n",
            "\n",
            "    accuracy                           0.98       500\n",
            "   macro avg       0.95      0.91      0.93       500\n",
            "weighted avg       0.98      0.98      0.98       500\n",
            "\n"
          ]
        }
      ]
    },
    {
      "cell_type": "code",
      "source": [
        ""
      ],
      "metadata": {
        "id": "kJ_3MWpcdrW3"
      },
      "execution_count": null,
      "outputs": []
    },
    {
      "cell_type": "markdown",
      "source": [
        "### Testing"
      ],
      "metadata": {
        "id": "ZEjUtXiheikU"
      }
    },
    {
      "cell_type": "code",
      "source": [
        "model_tree_tuned2 = DecisionTreeClassifier(criterion = 'gini', \n",
        "                                          max_depth = 20, \n",
        "                                          min_samples_leaf = 31,\n",
        "                                          min_samples_split = 16, \n",
        "                                          random_state = 111)\n",
        "tuned_tree2 = model_tree_tuned2.fit(X_train,y_train)\n",
        "predict_tree_tuned2 = tuned_tree2.predict(X_test)\n",
        "print(confusion_matrix(y_test,predict_tree_tuned2))\n",
        "print(classification_report(y_test,predict_tree_tuned2))"
      ],
      "metadata": {
        "id": "8GdJ-fW68zm9",
        "colab": {
          "base_uri": "https://localhost:8080/"
        },
        "outputId": "c3cdd174-5d41-4058-cb2f-b87c7555a307"
      },
      "execution_count": null,
      "outputs": [
        {
          "output_type": "stream",
          "name": "stdout",
          "text": [
            "[[435  17]\n",
            " [  7  41]]\n",
            "              precision    recall  f1-score   support\n",
            "\n",
            "           0       0.98      0.96      0.97       452\n",
            "           1       0.71      0.85      0.77        48\n",
            "\n",
            "    accuracy                           0.95       500\n",
            "   macro avg       0.85      0.91      0.87       500\n",
            "weighted avg       0.96      0.95      0.95       500\n",
            "\n"
          ]
        }
      ]
    },
    {
      "cell_type": "markdown",
      "source": [
        "##Save Model"
      ],
      "metadata": {
        "id": "aR_0Pi6i8Qlf"
      }
    },
    {
      "cell_type": "code",
      "source": [
        "import pickle"
      ],
      "metadata": {
        "id": "EUA6rvUagHi_"
      },
      "execution_count": null,
      "outputs": []
    },
    {
      "cell_type": "code",
      "source": [
        "filename = 'personal_loan_prediction.pkl'\n",
        "pickle.dump(tuned_tree, open(filename, 'wb'))"
      ],
      "metadata": {
        "id": "pmt_1XBqenCE"
      },
      "execution_count": null,
      "outputs": []
    },
    {
      "cell_type": "markdown",
      "source": [
        "##Prompt Untuk Prediction"
      ],
      "metadata": {
        "id": "iZFDMiW38QcX"
      }
    },
    {
      "cell_type": "code",
      "source": [
        "loaded_model = pickle.load(open(filename, 'rb'))\n",
        "result = loaded_model.score(X_valid, y_valid)\n",
        "print(result)"
      ],
      "metadata": {
        "colab": {
          "base_uri": "https://localhost:8080/"
        },
        "id": "H-x7WY8DhfWo",
        "outputId": "fdf9a9b5-b048-4f80-b66a-d5794588d3dc"
      },
      "execution_count": null,
      "outputs": [
        {
          "output_type": "stream",
          "name": "stdout",
          "text": [
            "0.978\n"
          ]
        }
      ]
    },
    {
      "cell_type": "code",
      "source": [
        "X_predict = pd.DataFrame(index=[0], columns=X_train.columns)\n",
        "X_predict"
      ],
      "metadata": {
        "colab": {
          "base_uri": "https://localhost:8080/",
          "height": 81
        },
        "id": "x1Z2UdjNhnww",
        "outputId": "8e7c4987-6e58-4f47-ffb8-3b03825ebd0e"
      },
      "execution_count": null,
      "outputs": [
        {
          "output_type": "execute_result",
          "data": {
            "text/plain": [
              "   age income zip_code family ccavg  edu mortgage securities   cd online   cc\n",
              "0  NaN    NaN      NaN    NaN   NaN  NaN      NaN        NaN  NaN    NaN  NaN"
            ],
            "text/html": [
              "\n",
              "  <div id=\"df-01d414cd-50e9-49d5-9ed5-075d798cb8e8\">\n",
              "    <div class=\"colab-df-container\">\n",
              "      <div>\n",
              "<style scoped>\n",
              "    .dataframe tbody tr th:only-of-type {\n",
              "        vertical-align: middle;\n",
              "    }\n",
              "\n",
              "    .dataframe tbody tr th {\n",
              "        vertical-align: top;\n",
              "    }\n",
              "\n",
              "    .dataframe thead th {\n",
              "        text-align: right;\n",
              "    }\n",
              "</style>\n",
              "<table border=\"1\" class=\"dataframe\">\n",
              "  <thead>\n",
              "    <tr style=\"text-align: right;\">\n",
              "      <th></th>\n",
              "      <th>age</th>\n",
              "      <th>income</th>\n",
              "      <th>zip_code</th>\n",
              "      <th>family</th>\n",
              "      <th>ccavg</th>\n",
              "      <th>edu</th>\n",
              "      <th>mortgage</th>\n",
              "      <th>securities</th>\n",
              "      <th>cd</th>\n",
              "      <th>online</th>\n",
              "      <th>cc</th>\n",
              "    </tr>\n",
              "  </thead>\n",
              "  <tbody>\n",
              "    <tr>\n",
              "      <th>0</th>\n",
              "      <td>NaN</td>\n",
              "      <td>NaN</td>\n",
              "      <td>NaN</td>\n",
              "      <td>NaN</td>\n",
              "      <td>NaN</td>\n",
              "      <td>NaN</td>\n",
              "      <td>NaN</td>\n",
              "      <td>NaN</td>\n",
              "      <td>NaN</td>\n",
              "      <td>NaN</td>\n",
              "      <td>NaN</td>\n",
              "    </tr>\n",
              "  </tbody>\n",
              "</table>\n",
              "</div>\n",
              "      <button class=\"colab-df-convert\" onclick=\"convertToInteractive('df-01d414cd-50e9-49d5-9ed5-075d798cb8e8')\"\n",
              "              title=\"Convert this dataframe to an interactive table.\"\n",
              "              style=\"display:none;\">\n",
              "        \n",
              "  <svg xmlns=\"http://www.w3.org/2000/svg\" height=\"24px\"viewBox=\"0 0 24 24\"\n",
              "       width=\"24px\">\n",
              "    <path d=\"M0 0h24v24H0V0z\" fill=\"none\"/>\n",
              "    <path d=\"M18.56 5.44l.94 2.06.94-2.06 2.06-.94-2.06-.94-.94-2.06-.94 2.06-2.06.94zm-11 1L8.5 8.5l.94-2.06 2.06-.94-2.06-.94L8.5 2.5l-.94 2.06-2.06.94zm10 10l.94 2.06.94-2.06 2.06-.94-2.06-.94-.94-2.06-.94 2.06-2.06.94z\"/><path d=\"M17.41 7.96l-1.37-1.37c-.4-.4-.92-.59-1.43-.59-.52 0-1.04.2-1.43.59L10.3 9.45l-7.72 7.72c-.78.78-.78 2.05 0 2.83L4 21.41c.39.39.9.59 1.41.59.51 0 1.02-.2 1.41-.59l7.78-7.78 2.81-2.81c.8-.78.8-2.07 0-2.86zM5.41 20L4 18.59l7.72-7.72 1.47 1.35L5.41 20z\"/>\n",
              "  </svg>\n",
              "      </button>\n",
              "      \n",
              "  <style>\n",
              "    .colab-df-container {\n",
              "      display:flex;\n",
              "      flex-wrap:wrap;\n",
              "      gap: 12px;\n",
              "    }\n",
              "\n",
              "    .colab-df-convert {\n",
              "      background-color: #E8F0FE;\n",
              "      border: none;\n",
              "      border-radius: 50%;\n",
              "      cursor: pointer;\n",
              "      display: none;\n",
              "      fill: #1967D2;\n",
              "      height: 32px;\n",
              "      padding: 0 0 0 0;\n",
              "      width: 32px;\n",
              "    }\n",
              "\n",
              "    .colab-df-convert:hover {\n",
              "      background-color: #E2EBFA;\n",
              "      box-shadow: 0px 1px 2px rgba(60, 64, 67, 0.3), 0px 1px 3px 1px rgba(60, 64, 67, 0.15);\n",
              "      fill: #174EA6;\n",
              "    }\n",
              "\n",
              "    [theme=dark] .colab-df-convert {\n",
              "      background-color: #3B4455;\n",
              "      fill: #D2E3FC;\n",
              "    }\n",
              "\n",
              "    [theme=dark] .colab-df-convert:hover {\n",
              "      background-color: #434B5C;\n",
              "      box-shadow: 0px 1px 3px 1px rgba(0, 0, 0, 0.15);\n",
              "      filter: drop-shadow(0px 1px 2px rgba(0, 0, 0, 0.3));\n",
              "      fill: #FFFFFF;\n",
              "    }\n",
              "  </style>\n",
              "\n",
              "      <script>\n",
              "        const buttonEl =\n",
              "          document.querySelector('#df-01d414cd-50e9-49d5-9ed5-075d798cb8e8 button.colab-df-convert');\n",
              "        buttonEl.style.display =\n",
              "          google.colab.kernel.accessAllowed ? 'block' : 'none';\n",
              "\n",
              "        async function convertToInteractive(key) {\n",
              "          const element = document.querySelector('#df-01d414cd-50e9-49d5-9ed5-075d798cb8e8');\n",
              "          const dataTable =\n",
              "            await google.colab.kernel.invokeFunction('convertToInteractive',\n",
              "                                                     [key], {});\n",
              "          if (!dataTable) return;\n",
              "\n",
              "          const docLinkHtml = 'Like what you see? Visit the ' +\n",
              "            '<a target=\"_blank\" href=https://colab.research.google.com/notebooks/data_table.ipynb>data table notebook</a>'\n",
              "            + ' to learn more about interactive tables.';\n",
              "          element.innerHTML = '';\n",
              "          dataTable['output_type'] = 'display_data';\n",
              "          await google.colab.output.renderOutput(dataTable, element);\n",
              "          const docLink = document.createElement('div');\n",
              "          docLink.innerHTML = docLinkHtml;\n",
              "          element.appendChild(docLink);\n",
              "        }\n",
              "      </script>\n",
              "    </div>\n",
              "  </div>\n",
              "  "
            ]
          },
          "metadata": {},
          "execution_count": 25
        }
      ]
    },
    {
      "cell_type": "code",
      "source": [
        "X_predict.loc[-1] = [25, 49, 91107, 4, 1.6, 1, 0, 1, 0, 0, 0]\n",
        "X_predict = X_predict.iloc[1: , :]\n",
        "X_predict"
      ],
      "metadata": {
        "colab": {
          "base_uri": "https://localhost:8080/",
          "height": 81
        },
        "id": "fh9RdizkiqPF",
        "outputId": "6adf7400-5192-416f-ce0e-c2a8ab42c619"
      },
      "execution_count": null,
      "outputs": [
        {
          "output_type": "execute_result",
          "data": {
            "text/plain": [
              "     age  income  zip_code  family  ccavg  edu  mortgage  securities   cd  \\\n",
              "-1  25.0    49.0   91107.0     4.0    1.6  1.0       0.0         1.0  0.0   \n",
              "\n",
              "    online   cc  \n",
              "-1     0.0  0.0  "
            ],
            "text/html": [
              "\n",
              "  <div id=\"df-d35f8668-8192-4986-a288-4972db6b68dc\">\n",
              "    <div class=\"colab-df-container\">\n",
              "      <div>\n",
              "<style scoped>\n",
              "    .dataframe tbody tr th:only-of-type {\n",
              "        vertical-align: middle;\n",
              "    }\n",
              "\n",
              "    .dataframe tbody tr th {\n",
              "        vertical-align: top;\n",
              "    }\n",
              "\n",
              "    .dataframe thead th {\n",
              "        text-align: right;\n",
              "    }\n",
              "</style>\n",
              "<table border=\"1\" class=\"dataframe\">\n",
              "  <thead>\n",
              "    <tr style=\"text-align: right;\">\n",
              "      <th></th>\n",
              "      <th>age</th>\n",
              "      <th>income</th>\n",
              "      <th>zip_code</th>\n",
              "      <th>family</th>\n",
              "      <th>ccavg</th>\n",
              "      <th>edu</th>\n",
              "      <th>mortgage</th>\n",
              "      <th>securities</th>\n",
              "      <th>cd</th>\n",
              "      <th>online</th>\n",
              "      <th>cc</th>\n",
              "    </tr>\n",
              "  </thead>\n",
              "  <tbody>\n",
              "    <tr>\n",
              "      <th>-1</th>\n",
              "      <td>25.0</td>\n",
              "      <td>49.0</td>\n",
              "      <td>91107.0</td>\n",
              "      <td>4.0</td>\n",
              "      <td>1.6</td>\n",
              "      <td>1.0</td>\n",
              "      <td>0.0</td>\n",
              "      <td>1.0</td>\n",
              "      <td>0.0</td>\n",
              "      <td>0.0</td>\n",
              "      <td>0.0</td>\n",
              "    </tr>\n",
              "  </tbody>\n",
              "</table>\n",
              "</div>\n",
              "      <button class=\"colab-df-convert\" onclick=\"convertToInteractive('df-d35f8668-8192-4986-a288-4972db6b68dc')\"\n",
              "              title=\"Convert this dataframe to an interactive table.\"\n",
              "              style=\"display:none;\">\n",
              "        \n",
              "  <svg xmlns=\"http://www.w3.org/2000/svg\" height=\"24px\"viewBox=\"0 0 24 24\"\n",
              "       width=\"24px\">\n",
              "    <path d=\"M0 0h24v24H0V0z\" fill=\"none\"/>\n",
              "    <path d=\"M18.56 5.44l.94 2.06.94-2.06 2.06-.94-2.06-.94-.94-2.06-.94 2.06-2.06.94zm-11 1L8.5 8.5l.94-2.06 2.06-.94-2.06-.94L8.5 2.5l-.94 2.06-2.06.94zm10 10l.94 2.06.94-2.06 2.06-.94-2.06-.94-.94-2.06-.94 2.06-2.06.94z\"/><path d=\"M17.41 7.96l-1.37-1.37c-.4-.4-.92-.59-1.43-.59-.52 0-1.04.2-1.43.59L10.3 9.45l-7.72 7.72c-.78.78-.78 2.05 0 2.83L4 21.41c.39.39.9.59 1.41.59.51 0 1.02-.2 1.41-.59l7.78-7.78 2.81-2.81c.8-.78.8-2.07 0-2.86zM5.41 20L4 18.59l7.72-7.72 1.47 1.35L5.41 20z\"/>\n",
              "  </svg>\n",
              "      </button>\n",
              "      \n",
              "  <style>\n",
              "    .colab-df-container {\n",
              "      display:flex;\n",
              "      flex-wrap:wrap;\n",
              "      gap: 12px;\n",
              "    }\n",
              "\n",
              "    .colab-df-convert {\n",
              "      background-color: #E8F0FE;\n",
              "      border: none;\n",
              "      border-radius: 50%;\n",
              "      cursor: pointer;\n",
              "      display: none;\n",
              "      fill: #1967D2;\n",
              "      height: 32px;\n",
              "      padding: 0 0 0 0;\n",
              "      width: 32px;\n",
              "    }\n",
              "\n",
              "    .colab-df-convert:hover {\n",
              "      background-color: #E2EBFA;\n",
              "      box-shadow: 0px 1px 2px rgba(60, 64, 67, 0.3), 0px 1px 3px 1px rgba(60, 64, 67, 0.15);\n",
              "      fill: #174EA6;\n",
              "    }\n",
              "\n",
              "    [theme=dark] .colab-df-convert {\n",
              "      background-color: #3B4455;\n",
              "      fill: #D2E3FC;\n",
              "    }\n",
              "\n",
              "    [theme=dark] .colab-df-convert:hover {\n",
              "      background-color: #434B5C;\n",
              "      box-shadow: 0px 1px 3px 1px rgba(0, 0, 0, 0.15);\n",
              "      filter: drop-shadow(0px 1px 2px rgba(0, 0, 0, 0.3));\n",
              "      fill: #FFFFFF;\n",
              "    }\n",
              "  </style>\n",
              "\n",
              "      <script>\n",
              "        const buttonEl =\n",
              "          document.querySelector('#df-d35f8668-8192-4986-a288-4972db6b68dc button.colab-df-convert');\n",
              "        buttonEl.style.display =\n",
              "          google.colab.kernel.accessAllowed ? 'block' : 'none';\n",
              "\n",
              "        async function convertToInteractive(key) {\n",
              "          const element = document.querySelector('#df-d35f8668-8192-4986-a288-4972db6b68dc');\n",
              "          const dataTable =\n",
              "            await google.colab.kernel.invokeFunction('convertToInteractive',\n",
              "                                                     [key], {});\n",
              "          if (!dataTable) return;\n",
              "\n",
              "          const docLinkHtml = 'Like what you see? Visit the ' +\n",
              "            '<a target=\"_blank\" href=https://colab.research.google.com/notebooks/data_table.ipynb>data table notebook</a>'\n",
              "            + ' to learn more about interactive tables.';\n",
              "          element.innerHTML = '';\n",
              "          dataTable['output_type'] = 'display_data';\n",
              "          await google.colab.output.renderOutput(dataTable, element);\n",
              "          const docLink = document.createElement('div');\n",
              "          docLink.innerHTML = docLinkHtml;\n",
              "          element.appendChild(docLink);\n",
              "        }\n",
              "      </script>\n",
              "    </div>\n",
              "  </div>\n",
              "  "
            ]
          },
          "metadata": {},
          "execution_count": 26
        }
      ]
    },
    {
      "cell_type": "code",
      "source": [
        "tes = loaded_model.predict(X_predict)\n",
        "\n",
        "print('hasil = ', tes)"
      ],
      "metadata": {
        "colab": {
          "base_uri": "https://localhost:8080/"
        },
        "id": "o46QncMrnmjJ",
        "outputId": "c8f67e27-6581-4f28-b4f1-bd29bebc0423"
      },
      "execution_count": null,
      "outputs": [
        {
          "output_type": "stream",
          "name": "stdout",
          "text": [
            "hasil =  [1]\n"
          ]
        }
      ]
    },
    {
      "cell_type": "code",
      "source": [
        ""
      ],
      "metadata": {
        "id": "_H-V-u37ooCC"
      },
      "execution_count": null,
      "outputs": []
    }
  ]
}